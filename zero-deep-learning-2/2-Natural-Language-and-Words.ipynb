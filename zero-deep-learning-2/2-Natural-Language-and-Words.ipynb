{
 "cells": [
  {
   "cell_type": "markdown",
   "id": "f79b9b6b-c489-4784-a104-950626f04d7f",
   "metadata": {},
   "source": [
    "* # 2.3 カウントベースの手法"
   ]
  },
  {
   "cell_type": "code",
   "execution_count": 8,
   "id": "f813d5f1-8f25-4503-bb20-9861b937f95e",
   "metadata": {},
   "outputs": [
    {
     "data": {
      "text/plain": [
       "'you say goodbye and i say hello .'"
      ]
     },
     "execution_count": 8,
     "metadata": {},
     "output_type": "execute_result"
    }
   ],
   "source": [
    "# サンプル文章を分割してみる\n",
    "text = 'You say goodbye and I say hello.'\n",
    "text = text.lower()\n",
    "text = text.replace('.', ' .')\n",
    "text"
   ]
  },
  {
   "cell_type": "code",
   "execution_count": 10,
   "id": "74a9d828-0400-484e-99d2-6149dc3ef0dc",
   "metadata": {},
   "outputs": [
    {
     "data": {
      "text/plain": [
       "['you', 'say', 'goodbye', 'and', 'i', 'say', 'hello', '.']"
      ]
     },
     "execution_count": 10,
     "metadata": {},
     "output_type": "execute_result"
    }
   ],
   "source": [
    "words = text.split(' ')\n",
    "words"
   ]
  },
  {
   "cell_type": "code",
   "execution_count": 14,
   "id": "6d1f0ba1-5823-46a7-97f1-3505f88b63a9",
   "metadata": {},
   "outputs": [
    {
     "data": {
      "text/plain": [
       "{0: 'you', 1: 'say', 2: 'goodbye', 3: 'and', 4: 'i', 5: 'hello', 6: '.'}"
      ]
     },
     "execution_count": 14,
     "metadata": {},
     "output_type": "execute_result"
    }
   ],
   "source": [
    "# 単語にIDを振る\n",
    "word_to_id = {}\n",
    "id_to_word = {}\n",
    "\n",
    "for word in words:\n",
    "    if word not in word_to_id:\n",
    "        new_id = len(word_to_id)\n",
    "        word_to_id[word] = new_id\n",
    "        id_to_word[new_id] = word\n",
    "\n",
    "id_to_word"
   ]
  },
  {
   "cell_type": "code",
   "execution_count": 18,
   "id": "9871c43a-a0c5-401b-ae78-bcfaccb18bd9",
   "metadata": {},
   "outputs": [
    {
     "data": {
      "text/plain": [
       "{'you': 0, 'say': 1, 'goodbye': 2, 'and': 3, 'i': 4, 'hello': 5, '.': 6}"
      ]
     },
     "execution_count": 18,
     "metadata": {},
     "output_type": "execute_result"
    }
   ],
   "source": [
    "# 中身の確認\n",
    "word_to_id"
   ]
  },
  {
   "cell_type": "code",
   "execution_count": 26,
   "id": "c1c52fe7-6b03-42e8-b59b-2f22bf592a25",
   "metadata": {},
   "outputs": [
    {
     "name": "stdout",
     "output_type": "stream",
     "text": [
      "hello and goodbye\n"
     ]
    }
   ],
   "source": [
    "# idや単語でアクセスできるようになった\n",
    "print(id_to_word[5] + ' ' +  id_to_word[3] + ' ' +  id_to_word[2])"
   ]
  },
  {
   "cell_type": "code",
   "execution_count": 32,
   "id": "4015eabd-3ede-4717-b993-d234d9369c31",
   "metadata": {},
   "outputs": [
    {
     "data": {
      "text/plain": [
       "array([0, 1, 2, 3, 4, 1, 5, 6])"
      ]
     },
     "execution_count": 32,
     "metadata": {},
     "output_type": "execute_result"
    }
   ],
   "source": [
    "# 単語のリストを「単語IDのリスト」に変換する\n",
    "import numpy as np\n",
    "# リスト内包表記を活用\n",
    "corpus = [word_to_id[w] for w in words]\n",
    "corpus = np.array(corpus)\n",
    "corpus"
   ]
  },
  {
   "cell_type": "markdown",
   "id": "5c28fdaa-3719-43c9-97f2-efbe8ec57310",
   "metadata": {},
   "source": [
    "* ## 以上の処理をまとめて一つの関数にしておく"
   ]
  },
  {
   "cell_type": "code",
   "execution_count": 36,
   "id": "9d424fa2-86af-481d-982f-5ed59ef0cf19",
   "metadata": {},
   "outputs": [],
   "source": [
    "def preprocess(text):\n",
    "    text = text.lower()\n",
    "    text = text.replace('.', ' .')\n",
    "    words = text.split(' ')\n",
    "\n",
    "    word_to_id = {}\n",
    "    id_to_word = {}\n",
    "    for word in words:\n",
    "        if word not in word_to_id:\n",
    "            new_id = len(word_to_id)\n",
    "            word_to_id[word] = new_id\n",
    "            id_to_word[new_id] = word\n",
    "    corpus = np.array([word_to_id[w] for w in words])\n",
    "\n",
    "    return corpus, word_to_id, id_to_word"
   ]
  },
  {
   "cell_type": "code",
   "execution_count": null,
   "id": "f09b07c7-43f5-43b8-adbf-268f1a658715",
   "metadata": {},
   "outputs": [],
   "source": []
  }
 ],
 "metadata": {
  "kernelspec": {
   "display_name": "Python 3 (ipykernel)",
   "language": "python",
   "name": "python3"
  },
  "language_info": {
   "codemirror_mode": {
    "name": "ipython",
    "version": 3
   },
   "file_extension": ".py",
   "mimetype": "text/x-python",
   "name": "python",
   "nbconvert_exporter": "python",
   "pygments_lexer": "ipython3",
   "version": "3.11.7"
  }
 },
 "nbformat": 4,
 "nbformat_minor": 5
}

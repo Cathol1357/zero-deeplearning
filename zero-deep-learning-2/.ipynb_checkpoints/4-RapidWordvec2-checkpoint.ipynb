{
 "cells": [
  {
   "cell_type": "markdown",
   "id": "565d9989-7d18-4136-bf1e-7fdcba0d911e",
   "metadata": {},
   "source": [
    "# 4章 Word2vecの高速化"
   ]
  },
  {
   "cell_type": "markdown",
   "id": "0025f9f3-d02d-444f-8e2d-a6b21f9acc0d",
   "metadata": {},
   "source": [
    "## 4.1.2 Embeddingレイヤの実装"
   ]
  },
  {
   "cell_type": "markdown",
   "id": "37ce49d5-1bba-426d-88d0-32d16834c596",
   "metadata": {},
   "source": [
    "Embeddingレイヤとは、「単語IDに該当する行（ベクトル）」を抜き出すためのレイヤ"
   ]
  },
  {
   "cell_type": "code",
   "execution_count": 4,
   "id": "b45817b6-3ec1-4de4-a9a6-2a2869df7d75",
   "metadata": {},
   "outputs": [
    {
     "data": {
      "text/plain": [
       "array([[ 0,  1,  2],\n",
       "       [ 3,  4,  5],\n",
       "       [ 6,  7,  8],\n",
       "       [ 9, 10, 11],\n",
       "       [12, 13, 14],\n",
       "       [15, 16, 17],\n",
       "       [18, 19, 20]])"
      ]
     },
     "execution_count": 4,
     "metadata": {},
     "output_type": "execute_result"
    }
   ],
   "source": [
    "import numpy as np\n",
    "W = np.arange(21).reshape(7,3)\n",
    "W"
   ]
  },
  {
   "cell_type": "code",
   "execution_count": 6,
   "id": "b9d895ee-b4ab-44f5-9239-399cf8755cc8",
   "metadata": {},
   "outputs": [
    {
     "data": {
      "text/plain": [
       "array([6, 7, 8])"
      ]
     },
     "execution_count": 6,
     "metadata": {},
     "output_type": "execute_result"
    }
   ],
   "source": [
    "W[2]"
   ]
  },
  {
   "cell_type": "markdown",
   "id": "74b42f82-2ad4-4ae1-a616-24ce4242f944",
   "metadata": {},
   "source": [
    "pythonで特定の行を抜き出すには、W[i]のように書くだけで良い。"
   ]
  },
  {
   "cell_type": "code",
   "execution_count": 10,
   "id": "bd3b366f-9344-4b14-b01c-4babdde9cf5b",
   "metadata": {},
   "outputs": [
    {
     "data": {
      "text/plain": [
       "array([[ 3,  4,  5],\n",
       "       [ 0,  1,  2],\n",
       "       [ 9, 10, 11],\n",
       "       [ 0,  1,  2]])"
      ]
     },
     "execution_count": 10,
     "metadata": {},
     "output_type": "execute_result"
    }
   ],
   "source": [
    "# 複数行の抽出\n",
    "idx = np.array([1, 0, 3, 0]) # リストに行番号を保存\n",
    "W[idx]"
   ]
  },
  {
   "cell_type": "code",
   "execution_count": 12,
   "id": "a10666bb-7465-4b94-a38a-945832f77a1e",
   "metadata": {},
   "outputs": [],
   "source": [
    "# Embeddingレイヤの実装例\n",
    "class Embedding:\n",
    "    def __init__(self, W):\n",
    "        self.params = [W]\n",
    "        self.grads = [np.zeros_like[W]] # 既存の配列の形状（Wの形状）を受け継いで新しい配列を作成\n",
    "        self.idx = None # 取り出す行を指定する\n",
    "\n",
    "    def forward(self, idx):\n",
    "        W, = self.params\n",
    "        self.idx = idx\n",
    "        out = W[idx] # 指定された行を取り出す\n",
    "        return out\n",
    "\n",
    "    # 逆伝播は前の層から来た出力をそのまま戻すだけ\n",
    "    def backward(self, dout):\n",
    "        dW, = self.grads\n",
    "        dW[...] = 0 # dWの要素を形状を保ったまま0に上書きする\n",
    "\n",
    "        for i, word_id in enumerate(self.idx):\n",
    "            np.add.at(dW, self.idx, dout) # 重複したラベルが来た時用に加算処理する\n",
    "        return None\n",
    "\n",
    "\n",
    "        "
   ]
  },
  {
   "cell_type": "markdown",
   "id": "83c572bd-2689-4abf-ade1-635f9f63aee8",
   "metadata": {},
   "source": [
    "# 4.2.4 多値分類から二値分類へ"
   ]
  },
  {
   "cell_type": "code",
   "execution_count": null,
   "id": "ba52dcd1-2122-4b24-afa0-0b26ddea0fb7",
   "metadata": {},
   "outputs": [],
   "source": []
  }
 ],
 "metadata": {
  "kernelspec": {
   "display_name": "Python 3 (ipykernel)",
   "language": "python",
   "name": "python3"
  },
  "language_info": {
   "codemirror_mode": {
    "name": "ipython",
    "version": 3
   },
   "file_extension": ".py",
   "mimetype": "text/x-python",
   "name": "python",
   "nbconvert_exporter": "python",
   "pygments_lexer": "ipython3",
   "version": "3.11.7"
  }
 },
 "nbformat": 4,
 "nbformat_minor": 5
}

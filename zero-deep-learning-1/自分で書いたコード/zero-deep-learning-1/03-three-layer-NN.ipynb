{
 "cells": [
  {
   "cell_type": "markdown",
   "id": "56579928-1e24-4bdd-adb4-b4cd9065aea6",
   "metadata": {},
   "source": [
    "# 三層ニューラルネットワーク（Neural Network, NN）を実装する"
   ]
  },
  {
   "cell_type": "markdown",
   "id": "27d168f9-b59c-4b38-8de2-aab64acf1c30",
   "metadata": {},
   "source": [
    "### ゼロから始めるディープラーニング 1 （Oreilly社）の3.4節に示された三層NNのコード。"
   ]
  },
  {
   "cell_type": "markdown",
   "id": "9b18c473-dcfd-46d2-8445-61578e15fd9f",
   "metadata": {},
   "source": [
    "* ## 各層における信号伝達の実装"
   ]
  },
  {
   "cell_type": "markdown",
   "id": "692ce27b-5c84-4a9b-afdf-1e81ccce709c",
   "metadata": {},
   "source": [
    "#### ここでは重みは一定で伝播するとする。"
   ]
  },
  {
   "cell_type": "markdown",
   "id": "1b0251ce-2614-4cc4-a0b4-b99fe5228f60",
   "metadata": {},
   "source": [
    "<img src='./figures/3Layer-NN.png'>"
   ]
  },
  {
   "cell_type": "markdown",
   "id": "a6c04e14-65e1-4c69-9e5f-e3fc5e833f4a",
   "metadata": {},
   "source": [
    "#### それぞれの層におけるニューロンの数は図の通りとする。"
   ]
  },
  {
   "cell_type": "code",
   "execution_count": 14,
   "id": "29b17e94-4762-4a4a-b697-3c83d944d24a",
   "metadata": {},
   "outputs": [],
   "source": [
    "import numpy as np\n",
    "\n",
    "def sigmoid(x):\n",
    "    return 1 / (1 + np.exp(-x))\n",
    "\n",
    "def ReLu(x):\n",
    "    return np.maximum(0, x)\n",
    "\n",
    "# 恒等関数。後ほどSoftmax関数を導入しやすくする都合上この処理を入れる。\n",
    "def identity_function(x):\n",
    "    return x\n",
    "\n",
    "\n",
    "def init_network():\n",
    "    network = {}\n",
    "    # 一層目の重みとバイアスを定義\n",
    "    network['W1'] = np.array([[0.1, 0.3, 0.5],[0.2,0.4,0.6]])\n",
    "    network['b1'] = np.array([0.1, 0.2, 0.3])\n",
    "    # 二層目の重みとバイアスを定義\n",
    "    network['W2'] = np.array([[0.1, 0.4],[0.2, 0.5], [0.3, 0.6]])\n",
    "    network['b2'] = np.array([0.1, 0.2])\n",
    "    # 三層目の重みとバイアスを定義\n",
    "    network['W3'] = np.array([[0.1,0.3],[0.2,0.4]])\n",
    "    network['b3'] = np.array([0.1,0.2])\n",
    "    \n",
    "    return network\n",
    "\n",
    "# 引数として、network（重みとバイアスの情報）、入力 xをとる\n",
    "def forward(network, x):\n",
    "    # 重みとバイアスの値を読み出す\n",
    "    W1, W2, W3 = network['W1'], network['W2'], network['W3']\n",
    "    b1, b2, b3 = network['b1'], network['b2'], network['b3']\n",
    "\n",
    "    # 一層目の入力を合計する\n",
    "    a1 = np.dot(x, W1) + b1\n",
    "    # 活性化関数（シグモイド関数）に入れて出力\n",
    "    z1 = sigmoid(a1)\n",
    "    # 二層目の入力を合計する（以下同様）\n",
    "    a2 = np.dot(z1, W2) + b2\n",
    "    z2 = sigmoid(a2)\n",
    "    # 三層目\n",
    "    a3 = np.dot(z2, W3) + b3\n",
    "    # 三層目は活性化関数が異なる（ここでは恒等関数）\n",
    "    y = identity_function(a3)\n",
    "\n",
    "    return y"
   ]
  },
  {
   "cell_type": "code",
   "execution_count": 15,
   "id": "f898be06-ccb9-44ce-9e0e-a77082e32d7b",
   "metadata": {},
   "outputs": [
    {
     "name": "stdout",
     "output_type": "stream",
     "text": [
      "[0.31682708 0.69627909]\n"
     ]
    }
   ],
   "source": [
    "network = init_network()\n",
    "# NNへの入力\n",
    "x = np.array([1.0, 0.5])\n",
    "y = forward(network, x)\n",
    "print(y)"
   ]
  },
  {
   "cell_type": "markdown",
   "id": "dfe94c00-fb41-46ce-8e82-e635a910b231",
   "metadata": {},
   "source": [
    "* ## 出力層の設計"
   ]
  },
  {
   "cell_type": "markdown",
   "id": "3ee30361-8309-4894-994d-ff5e1ca5534e",
   "metadata": {},
   "source": [
    "出力層の活性化関数を変更することで、分類問題と回帰問題のどちらにもNNを適用することができる。<br>\n",
    "分類問題の場合 : ソフトマックス関数<br>\n",
    "回帰問題の場合 : 恒等関数"
   ]
  },
  {
   "cell_type": "markdown",
   "id": "b02e0351-807f-4272-8d12-f68630335572",
   "metadata": {},
   "source": [
    "* ### Softmax関数の実装\n",
    "* #### Softmax関数の形\n",
    "\n",
    "出力層が$n$個あるとして、$k$番目の出力$y_k$を求める式は以下の通り。\n",
    "\n",
    "$$ y_k = \\frac{\\exp(a_k)}{\\sum_{i = 1}^{n} \\exp(a_i)} $$\n",
    "\n",
    "ソフトマックス関数の出力$y_k$は確率として解釈することができる。つまり、以下の式が成り立つ。\n",
    "\n",
    "$$ \\sum_{k = 1}^{n} y_k = 1$$"
   ]
  },
  {
   "cell_type": "code",
   "execution_count": 5,
   "id": "c76c2a17-59ef-45f2-935e-ae1ef34e9c8c",
   "metadata": {},
   "outputs": [
    {
     "data": {
      "text/plain": [
       "array([0.01821127, 0.24519181, 0.73659691])"
      ]
     },
     "execution_count": 5,
     "metadata": {},
     "output_type": "execute_result"
    }
   ],
   "source": [
    "# ソフトマックス関数の実装\n",
    "a = np.array([0.3, 2.9, 4.0])\n",
    "\n",
    "def softmax(a):\n",
    "    c = np.max(a) # オーバーフロー対策\n",
    "    exp_a = np.exp(a - c)\n",
    "    sum_exp_a = np.sum(exp_a)\n",
    "    y = exp_a / sum_exp_a\n",
    "\n",
    "    return y\n",
    "\n",
    "softmax(a)"
   ]
  },
  {
   "cell_type": "code",
   "execution_count": 17,
   "id": "27879226-6521-4af2-96ef-f419d7343e4c",
   "metadata": {},
   "outputs": [
    {
     "data": {
      "text/plain": [
       "1.0"
      ]
     },
     "execution_count": 17,
     "metadata": {},
     "output_type": "execute_result"
    }
   ],
   "source": [
    "softmax(a).sum()"
   ]
  },
  {
   "cell_type": "markdown",
   "id": "82c60f19-f691-4518-bd70-0108f9e3f0fa",
   "metadata": {},
   "source": [
    "#### 確かにソフトマックス関数の出力値の和は1になることが確認できた。"
   ]
  },
  {
   "cell_type": "markdown",
   "id": "d5e3c07d-6424-43ef-82a2-692a81470cd6",
   "metadata": {},
   "source": [
    "* ## MNISTデータセットに対する予測の適用"
   ]
  },
  {
   "cell_type": "code",
   "execution_count": 6,
   "id": "c6f14167-d649-464d-bd43-10e231027601",
   "metadata": {},
   "outputs": [
    {
     "name": "stdout",
     "output_type": "stream",
     "text": [
      "画像の縦横サイズ : (28, 28)\n"
     ]
    },
    {
     "data": {
      "image/png": "[encoded data removed]",
      "text/plain": [
       "<Figure size 640x480 with 1 Axes>"
      ]
     },
     "metadata": {},
     "output_type": "display_data"
    },
    {
     "name": "stdout",
     "output_type": "stream",
     "text": [
      "画像の正解ラベル : 5\n"
     ]
    }
   ],
   "source": [
    "import pickle\n",
    "import numpy as np\n",
    "\n",
    "data_file_path = './dataset/mnist.pkl'\n",
    "# データを読み込む\n",
    "# 各データはリストになっており、train_img,train_label,test_img,test_labelという名前がついている\n",
    "\n",
    "with open(data_file_path, 'rb') as f:\n",
    "    dataset = pickle.load(f)\n",
    "\n",
    "# 画像データの中身の確認\n",
    "import matplotlib.pyplot as plt\n",
    "\n",
    "example = dataset['train_img'][0].reshape((28, 28))\n",
    "ex_label = dataset['train_label'][0]\n",
    "\n",
    "print('画像の縦横サイズ : ' + str(example.shape))\n",
    "plt.imshow(example)\n",
    "plt.show()\n",
    "\n",
    "print('画像の正解ラベル : ' + str(ex_label))"
   ]
  },
  {
   "cell_type": "code",
   "execution_count": 8,
   "id": "f2b9ef31-c5bf-4d70-ab84-620f852b6bd0",
   "metadata": {},
   "outputs": [
    {
     "data": {
      "text/plain": [
       "(60000, 10)"
      ]
     },
     "execution_count": 8,
     "metadata": {},
     "output_type": "execute_result"
    }
   ],
   "source": [
    "# そのままでは行列の形が合わないのでラベルをOne-Hot表現に変更\n",
    "def to_one_hot(label):\n",
    "    T = np.zeros((label.size, 10))\n",
    "    for i in range(label.size):\n",
    "        T[i][label[i]] = 1\n",
    "    return T\n",
    "\n",
    "dataset['train_label'] = to_one_hot(dataset['train_label'])\n",
    "dataset['train_label'].shape    #-> (60000, 10)"
   ]
  },
  {
   "cell_type": "code",
   "execution_count": 20,
   "id": "3c4c2f9e-6d8a-4e0b-8656-b620e4457891",
   "metadata": {},
   "outputs": [],
   "source": [
    "# 正規化を行う\n",
    "dataset['train_img'] = dataset['train_img'] / 255.0\n",
    "dataset['train_label'] = dataset['train_label'] / 255.0\n",
    "dataset['test_img'] = dataset['test_img'] / 255.0\n",
    "dataset['test_label'] = dataset['test_label'] / 255.0"
   ]
  },
  {
   "cell_type": "markdown",
   "id": "5b915e1e-b49f-4580-991c-c476d9cd586c",
   "metadata": {},
   "source": [
    "#### 入力層のニューロンをを784個、出力層のニューロンを10個（0~9の文字に対応）用意する。<br>一つ目の隠れ層のニューロンの個数を50個、二つ目を100個に設定する。"
   ]
  },
  {
   "cell_type": "code",
   "execution_count": 22,
   "id": "ad236a1e-1208-460d-b59d-0ff9648fbec1",
   "metadata": {},
   "outputs": [],
   "source": [
    "def init_network():\n",
    "    with open('sample_weight.pkl', 'rb') as f:\n",
    "        network = pickel.load(f)\n",
    "\n",
    "def predict(network, x):\n",
    "    # 重みとバイアスの値を読み出す\n",
    "    W1, W2, W3 = network['W1'], network['W2'], network['W3']\n",
    "    b1, b2, b3 = network['b1'], network['b2'], network['b3']\n",
    "\n",
    "    # 一層目の入力を合計する\n",
    "    a1 = np.dot(x, W1) + b1\n",
    "    # 活性化関数（シグモイド関数）に入れて出力\n",
    "    z1 = sigmoid(a1)\n",
    "    # 二層目の入力を合計する（以下同様）\n",
    "    a2 = np.dot(z1, W2) + b2\n",
    "    z2 = sigmoid(a2)\n",
    "    # 三層目\n",
    "    a3 = np.dot(z2, W3) + b3\n",
    "    # 三層目は活性化関数が異なる\n",
    "    y = softmax(a3)\n",
    "\n",
    "    return y"
   ]
  },
  {
   "cell_type": "code",
   "execution_count": 14,
   "id": "60d56044-1bd9-4f14-bfb3-4cd798551643",
   "metadata": {},
   "outputs": [
    {
     "ename": "FileNotFoundError",
     "evalue": "[Errno 2] No such file or directory: 'sample_weight.pkl'",
     "output_type": "error",
     "traceback": [
      "\u001b[0;31m---------------------------------------------------------------------------\u001b[0m",
      "\u001b[0;31mFileNotFoundError\u001b[0m                         Traceback (most recent call last)",
      "Cell \u001b[0;32mIn[14], line 2\u001b[0m\n\u001b[1;32m      1\u001b[0m x, t \u001b[38;5;241m=\u001b[39m dataset[\u001b[38;5;124m'\u001b[39m\u001b[38;5;124mtrain_img\u001b[39m\u001b[38;5;124m'\u001b[39m], dataset[\u001b[38;5;124m'\u001b[39m\u001b[38;5;124mtrain_label\u001b[39m\u001b[38;5;124m'\u001b[39m]\n\u001b[0;32m----> 2\u001b[0m network \u001b[38;5;241m=\u001b[39m init_network()\n\u001b[1;32m      4\u001b[0m accuracy_cnt \u001b[38;5;241m=\u001b[39m \u001b[38;5;241m0\u001b[39m\n\u001b[1;32m      5\u001b[0m \u001b[38;5;28;01mfor\u001b[39;00m i \u001b[38;5;129;01min\u001b[39;00m \u001b[38;5;28mrange\u001b[39m(\u001b[38;5;28mlen\u001b[39m(x)):\n",
      "Cell \u001b[0;32mIn[12], line 2\u001b[0m, in \u001b[0;36minit_network\u001b[0;34m()\u001b[0m\n\u001b[1;32m      1\u001b[0m \u001b[38;5;28;01mdef\u001b[39;00m \u001b[38;5;21minit_network\u001b[39m():\n\u001b[0;32m----> 2\u001b[0m     \u001b[38;5;28;01mwith\u001b[39;00m \u001b[38;5;28mopen\u001b[39m(\u001b[38;5;124m'\u001b[39m\u001b[38;5;124msample_weight.pkl\u001b[39m\u001b[38;5;124m'\u001b[39m, \u001b[38;5;124m'\u001b[39m\u001b[38;5;124mrb\u001b[39m\u001b[38;5;124m'\u001b[39m) \u001b[38;5;28;01mas\u001b[39;00m f:\n\u001b[1;32m      3\u001b[0m         network \u001b[38;5;241m=\u001b[39m pickel\u001b[38;5;241m.\u001b[39mload(f)\n",
      "File \u001b[0;32m/usr/local/anaconda3/lib/python3.11/site-packages/IPython/core/interactiveshell.py:310\u001b[0m, in \u001b[0;36m_modified_open\u001b[0;34m(file, *args, **kwargs)\u001b[0m\n\u001b[1;32m    303\u001b[0m \u001b[38;5;28;01mif\u001b[39;00m file \u001b[38;5;129;01min\u001b[39;00m {\u001b[38;5;241m0\u001b[39m, \u001b[38;5;241m1\u001b[39m, \u001b[38;5;241m2\u001b[39m}:\n\u001b[1;32m    304\u001b[0m     \u001b[38;5;28;01mraise\u001b[39;00m \u001b[38;5;167;01mValueError\u001b[39;00m(\n\u001b[1;32m    305\u001b[0m         \u001b[38;5;124mf\u001b[39m\u001b[38;5;124m\"\u001b[39m\u001b[38;5;124mIPython won\u001b[39m\u001b[38;5;124m'\u001b[39m\u001b[38;5;124mt let you open fd=\u001b[39m\u001b[38;5;132;01m{\u001b[39;00mfile\u001b[38;5;132;01m}\u001b[39;00m\u001b[38;5;124m by default \u001b[39m\u001b[38;5;124m\"\u001b[39m\n\u001b[1;32m    306\u001b[0m         \u001b[38;5;124m\"\u001b[39m\u001b[38;5;124mas it is likely to crash IPython. If you know what you are doing, \u001b[39m\u001b[38;5;124m\"\u001b[39m\n\u001b[1;32m    307\u001b[0m         \u001b[38;5;124m\"\u001b[39m\u001b[38;5;124myou can use builtins\u001b[39m\u001b[38;5;124m'\u001b[39m\u001b[38;5;124m open.\u001b[39m\u001b[38;5;124m\"\u001b[39m\n\u001b[1;32m    308\u001b[0m     )\n\u001b[0;32m--> 310\u001b[0m \u001b[38;5;28;01mreturn\u001b[39;00m io_open(file, \u001b[38;5;241m*\u001b[39margs, \u001b[38;5;241m*\u001b[39m\u001b[38;5;241m*\u001b[39mkwargs)\n",
      "\u001b[0;31mFileNotFoundError\u001b[0m: [Errno 2] No such file or directory: 'sample_weight.pkl'"
     ]
    }
   ],
   "source": [
    "x, t = dataset['train_img'], dataset['train_label']\n",
    "network = init_network()\n",
    "\n",
    "accuracy_cnt = 0\n",
    "for i in range(len(x)):\n",
    "    y = predict(network, x[i])\n",
    "    p = np.argmax(y)\n",
    "    if p == t[i]:\n",
    "        accuracy_cnt += 1\n",
    "\n",
    "print('Accuracy : ' + str(float(accuracy_int) / len(x)))"
   ]
  },
  {
   "cell_type": "code",
   "execution_count": null,
   "id": "b20ae5f6-5612-49a2-ace3-3d932490d2ce",
   "metadata": {},
   "outputs": [],
   "source": []
  }
 ],
 "metadata": {
  "kernelspec": {
   "display_name": "Python 3 (ipykernel)",
   "language": "python",
   "name": "python3"
  },
  "language_info": {
   "codemirror_mode": {
    "name": "ipython",
    "version": 3
   },
   "file_extension": ".py",
   "mimetype": "text/x-python",
   "name": "python",
   "nbconvert_exporter": "python",
   "pygments_lexer": "ipython3",
   "version": "3.11.7"
  }
 },
 "nbformat": 4,
 "nbformat_minor": 5
}

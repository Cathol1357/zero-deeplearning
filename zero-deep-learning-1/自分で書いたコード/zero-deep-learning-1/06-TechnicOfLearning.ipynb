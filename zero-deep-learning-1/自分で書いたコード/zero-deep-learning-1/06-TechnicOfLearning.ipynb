{
 "cells": [
  {
   "cell_type": "markdown",
   "id": "6387c74d-99fe-4c8f-911b-01a85ad5047d",
   "metadata": {},
   "source": [
    "# 第6章 学習に関するテクニック"
   ]
  },
  {
   "cell_type": "markdown",
   "id": "5c2c9939-1494-4411-b14d-e9d0a63fcbe9",
   "metadata": {},
   "source": [
    "# 1. パラメータの更新方法"
   ]
  },
  {
   "cell_type": "markdown",
   "id": "56f9f7ee-a379-4019-b2f9-7b4447094af5",
   "metadata": {},
   "source": [
    "* ## SGD"
   ]
  },
  {
   "cell_type": "markdown",
   "id": "603c8c26-febf-4783-a68e-8b0df88917b4",
   "metadata": {},
   "source": [
    "#### 数式で書くと SGDは次のようにかける。$$ W_{t + 1} = W_t - \\eta \\frac{\\partial L}{\\partial W_t} $$"
   ]
  },
  {
   "cell_type": "code",
   "execution_count": 14,
   "id": "4dc2ec0b-d939-4e0a-bf20-3469ade8a554",
   "metadata": {},
   "outputs": [],
   "source": [
    "class SGD:\n",
    "    def __init__(self, lr=0.01):\n",
    "        self.lr = lr\n",
    "\n",
    "    def update(self, params, grads):\n",
    "        for key in params.keys():\n",
    "            params[key] -= self.lr * grads[key]"
   ]
  },
  {
   "cell_type": "markdown",
   "id": "f0b5f96a-2746-403b-86f4-e913b77a0d72",
   "metadata": {},
   "source": [
    "* ## Momentum"
   ]
  },
  {
   "cell_type": "code",
   "execution_count": null,
   "id": "a3cce3f9-77f7-4f91-a608-088e3423147a",
   "metadata": {},
   "outputs": [],
   "source": []
  },
  {
   "cell_type": "markdown",
   "id": "9b8a98a6-dc77-4aa8-8426-6e1d6fef46b2",
   "metadata": {},
   "source": [
    "# 2. 重みの初期値の分布"
   ]
  },
  {
   "cell_type": "markdown",
   "id": "f597454b-e86b-416c-b64e-bcd24081b3ae",
   "metadata": {},
   "source": [
    "# 3. BatchNormalization"
   ]
  },
  {
   "cell_type": "markdown",
   "id": "2096aa92-0337-49d4-aac7-52025d8b9501",
   "metadata": {},
   "source": [
    "# 4. 正則化"
   ]
  },
  {
   "cell_type": "markdown",
   "id": "2e1ab936-8828-4e5a-8543-816a016d0232",
   "metadata": {},
   "source": [
    "# 5. ハイパーパラメータの最適化"
   ]
  },
  {
   "cell_type": "code",
   "execution_count": null,
   "id": "a6cb311b-36de-4d05-a1ce-81ad028c30c3",
   "metadata": {},
   "outputs": [],
   "source": []
  }
 ],
 "metadata": {
  "kernelspec": {
   "display_name": "Python 3 (ipykernel)",
   "language": "python",
   "name": "python3"
  },
  "language_info": {
   "codemirror_mode": {
    "name": "ipython",
    "version": 3
   },
   "file_extension": ".py",
   "mimetype": "text/x-python",
   "name": "python",
   "nbconvert_exporter": "python",
   "pygments_lexer": "ipython3",
   "version": "3.11.7"
  }
 },
 "nbformat": 4,
 "nbformat_minor": 5
}

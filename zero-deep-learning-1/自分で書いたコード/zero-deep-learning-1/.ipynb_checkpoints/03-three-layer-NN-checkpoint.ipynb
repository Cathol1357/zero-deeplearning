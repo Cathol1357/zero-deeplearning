{
 "cells": [
  {
   "cell_type": "markdown",
   "id": "56579928-1e24-4bdd-adb4-b4cd9065aea6",
   "metadata": {},
   "source": [
    "# 三層ニューラルネットワーク（Neural Network, NN）を実装する"
   ]
  },
  {
   "cell_type": "markdown",
   "id": "27d168f9-b59c-4b38-8de2-aab64acf1c30",
   "metadata": {},
   "source": [
    "### ゼロから始めるディープラーニング 1 （Oreilly社）の3.4節に示された三層NNのコード。"
   ]
  },
  {
   "cell_type": "markdown",
   "id": "9b18c473-dcfd-46d2-8445-61578e15fd9f",
   "metadata": {},
   "source": [
    "* ## 各層における信号伝達の実装"
   ]
  },
  {
   "cell_type": "markdown",
   "id": "692ce27b-5c84-4a9b-afdf-1e81ccce709c",
   "metadata": {},
   "source": [
    "#### ここでは重みは一定で伝播するとする。"
   ]
  },
  {
   "cell_type": "markdown",
   "id": "1b0251ce-2614-4cc4-a0b4-b99fe5228f60",
   "metadata": {},
   "source": [
    "<img src='./figures/3Layer-NN.png'>"
   ]
  },
  {
   "cell_type": "markdown",
   "id": "a6c04e14-65e1-4c69-9e5f-e3fc5e833f4a",
   "metadata": {},
   "source": [
    "#### それぞれの層におけるニューロンの数は図の通りとする。"
   ]
  },
  {
   "cell_type": "code",
   "execution_count": 14,
   "id": "29b17e94-4762-4a4a-b697-3c83d944d24a",
   "metadata": {},
   "outputs": [],
   "source": [
    "import numpy as np\n",
    "\n",
    "def sigmoid(x):\n",
    "    return 1 / (1 + np.exp(-x))\n",
    "\n",
    "def ReLu(x):\n",
    "    return np.maximum(0, x)\n",
    "\n",
    "# 恒等関数。後ほどSoftmax関数を導入しやすくする都合上この処理を入れる。\n",
    "def identity_function(x):\n",
    "    return x\n",
    "\n",
    "\n",
    "def init_network():\n",
    "    network = {}\n",
    "    # 一層目の重みとバイアスを定義\n",
    "    network['W1'] = np.array([[0.1, 0.3, 0.5],[0.2,0.4,0.6]])\n",
    "    network['b1'] = np.array([0.1, 0.2, 0.3])\n",
    "    # 二層目の重みとバイアスを定義\n",
    "    network['W2'] = np.array([[0.1, 0.4],[0.2, 0.5], [0.3, 0.6]])\n",
    "    network['b2'] = np.array([0.1, 0.2])\n",
    "    # 三層目の重みとバイアスを定義\n",
    "    network['W3'] = np.array([[0.1,0.3],[0.2,0.4]])\n",
    "    network['b3'] = np.array([0.1,0.2])\n",
    "    \n",
    "    return network\n",
    "\n",
    "# 引数として、network（重みとバイアスの情報）、入力 xをとる\n",
    "def forward(network, x):\n",
    "    # 重みとバイアスの値を読み出す\n",
    "    W1, W2, W3 = network['W1'], network['W2'], network['W3']\n",
    "    b1, b2, b3 = network['b1'], network['b2'], network['b3']\n",
    "\n",
    "    # 一層目の入力を合計する\n",
    "    a1 = np.dot(x, W1) + b1\n",
    "    # 活性化関数（シグモイド関数）に入れて出力\n",
    "    z1 = sigmoid(a1)\n",
    "    # 二層目の入力を合計する（以下同様）\n",
    "    a2 = np.dot(z1, W2) + b2\n",
    "    z2 = sigmoid(a2)\n",
    "    # 三層目\n",
    "    a3 = np.dot(z2, W3) + b3\n",
    "    # 三層目は活性化関数が異なる（ここでは恒等関数）\n",
    "    y = identity_function(a3)\n",
    "\n",
    "    return y"
   ]
  },
  {
   "cell_type": "code",
   "execution_count": 15,
   "id": "f898be06-ccb9-44ce-9e0e-a77082e32d7b",
   "metadata": {},
   "outputs": [
    {
     "name": "stdout",
     "output_type": "stream",
     "text": [
      "[0.31682708 0.69627909]\n"
     ]
    }
   ],
   "source": [
    "network = init_network()\n",
    "# NNへの入力\n",
    "x = np.array([1.0, 0.5])\n",
    "y = forward(network, x)\n",
    "print(y)"
   ]
  },
  {
   "cell_type": "markdown",
   "id": "b02e0351-807f-4272-8d12-f68630335572",
   "metadata": {},
   "source": [
    "* ### Softmax関数の実装\n",
    "* #### Softmax関数の形\n",
    "\n",
    "出力層が$n$個あるとして、$k$番目の出力$y_k$を求める式は以下の通り。\n",
    "\n",
    "$$ y_k = \\frac{\\exp(a_k)}{\\sum_{i = 1}^{n} \\exp(a_i)} $$\n",
    "\n",
    "ソフトマックス関数の出力$y_k$は確率として解釈することができる。つまり、以下の式が成り立つ。\n",
    "\n",
    "$$ \\sum_{k = 1}^{n} y_k = 1$$"
   ]
  },
  {
   "cell_type": "code",
   "execution_count": 16,
   "id": "c76c2a17-59ef-45f2-935e-ae1ef34e9c8c",
   "metadata": {},
   "outputs": [
    {
     "data": {
      "text/plain": [
       "array([0.01821127, 0.24519181, 0.73659691])"
      ]
     },
     "execution_count": 16,
     "metadata": {},
     "output_type": "execute_result"
    }
   ],
   "source": [
    "# ソフトマックス関数の実装\n",
    "a = np.array([0.3, 2.9, 4.0])\n",
    "\n",
    "def softmax(a):\n",
    "    c = np.max(a) # オーバーフロー対策\n",
    "    exp_a = np.exp(a - c)\n",
    "    sum_exp_a = np.sum(exp_a)\n",
    "    y = exp_a / sum_exp_a\n",
    "\n",
    "    return y\n",
    "\n",
    "softmax(a)"
   ]
  },
  {
   "cell_type": "code",
   "execution_count": 17,
   "id": "27879226-6521-4af2-96ef-f419d7343e4c",
   "metadata": {},
   "outputs": [
    {
     "data": {
      "text/plain": [
       "1.0"
      ]
     },
     "execution_count": 17,
     "metadata": {},
     "output_type": "execute_result"
    }
   ],
   "source": [
    "softmax(a).sum()"
   ]
  },
  {
   "cell_type": "markdown",
   "id": "82c60f19-f691-4518-bd70-0108f9e3f0fa",
   "metadata": {},
   "source": [
    "#### 確かにソフトマックス関数の出力値の和は1になることが確認できた。"
   ]
  },
  {
   "cell_type": "code",
   "execution_count": null,
   "id": "f9a33f16-7a13-436a-8c9d-f4d570a994ef",
   "metadata": {},
   "outputs": [],
   "source": []
  }
 ],
 "metadata": {
  "kernelspec": {
   "display_name": "Python 3 (ipykernel)",
   "language": "python",
   "name": "python3"
  },
  "language_info": {
   "codemirror_mode": {
    "name": "ipython",
    "version": 3
   },
   "file_extension": ".py",
   "mimetype": "text/x-python",
   "name": "python",
   "nbconvert_exporter": "python",
   "pygments_lexer": "ipython3",
   "version": "3.11.7"
  }
 },
 "nbformat": 4,
 "nbformat_minor": 5
}

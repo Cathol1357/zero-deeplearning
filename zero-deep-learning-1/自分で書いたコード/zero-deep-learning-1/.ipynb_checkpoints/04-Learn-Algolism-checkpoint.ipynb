{
 "cells": [
  {
   "cell_type": "markdown",
   "id": "30ebb59b-090c-4e63-8d16-a56ad355e321",
   "metadata": {},
   "source": [
    "# 学習アルゴリズムを実装する"
   ]
  },
  {
   "cell_type": "markdown",
   "id": "bbaa1dc0-5acf-4db5-8a7f-f737df2fc202",
   "metadata": {},
   "source": [
    "* ## 手順\n",
    "1. #### ミニバッチ <br> 訓練データの中からランダムに一部のデータを選び出す。その選ばれたデータをミニバッチといい、ここではそのミニバッチの損失関数の値を減らすことを目標とする。\n",
    "2. #### 勾配の算出<br>ミニバッチの損失関数を減らすために、各重みパラメータの勾配を求める。勾配は損失関数の値を最も減らす方向を示す。\n",
    "3. #### パラメータの更新 <br> 重みパラメータを勾配方向に微小量だけ更新する。\n",
    "4. #### ステップ1、ステップ2、ステップ3を繰り返す。"
   ]
  },
  {
   "cell_type": "markdown",
   "id": "1d485bba-68b7-421e-ac5a-0f9b5c1ea2dc",
   "metadata": {},
   "source": [
    "* ## 二層ニューラルネットワークの実装"
   ]
  },
  {
   "cell_type": "code",
   "execution_count": 18,
   "id": "57f78f50-1bc3-4906-ba02-afe1fa6cb22e",
   "metadata": {},
   "outputs": [],
   "source": [
    "import numpy as np\n",
    "\n",
    "# 勾配を求める関数の実装\n",
    "def numerical_gradient(f, x):\n",
    "    h = 1e-4 # 0.0001\n",
    "    grad = np.zeros_like(x)\n",
    "\n",
    "    for idx in range(x.size):\n",
    "        tmp_val = x[idx]\n",
    "        # f(x + h)の計算\n",
    "        x[idx] = tmp_val + h\n",
    "        fxh1 = f(x)\n",
    "\n",
    "        #f(x - h)の計算\n",
    "        x[idx] = tmp_val - h\n",
    "        fxh2 = f(x)\n",
    "\n",
    "        grad[idx] = (fxh1 - fxh2) / (2*h)\n",
    "        x[idx] = tmp_val #値を元に戻す\n",
    "\n",
    "    return grad\n",
    "\n",
    "def sigmoid(x):\n",
    "    return 1 / (1 + np.exp(-x))\n",
    "\n",
    "def softmax(a):\n",
    "    c = np.max(a) # オーバーフロー対策\n",
    "    exp_a = np.exp(a - c)\n",
    "    sum_exp_a = np.sum(exp_a)\n",
    "    y = exp_a / sum_exp_a\n",
    "\n",
    "    return y\n",
    "\n",
    "# y : 出力、t : 教師データ\n",
    "def cross_entropy_error(y, t):\n",
    "    delta = 1e-7 # 無限大対策\n",
    "    return -np.sum(t * np.log(y + delta))"
   ]
  },
  {
   "cell_type": "code",
   "execution_count": 120,
   "id": "856122a1-8dc2-414a-99d5-964d260b9ae7",
   "metadata": {},
   "outputs": [],
   "source": [
    "import sys, os\n",
    "sys.path.append(os.pardir)\n",
    "from common.functions import *\n",
    "from common.gradient import numerical_gradient\n",
    "\n",
    "class TwoLayerNet:\n",
    "\n",
    "    # input_size : 入力層のニューロンの数, hidden_size : 隠れ層のニューロンの数, output_size : 出力層のニューロンの数\n",
    "    def __init__(self, input_size, hidden_size, output_size, weight_init_std=0.01):\n",
    "        # 重みの初期化\n",
    "        self.params = {}\n",
    "        # 一層目\n",
    "        self.params['W1'] = weight_init_std * np.random.randn(input_size, hidden_size)\n",
    "        self.params['b1'] = np.zeros(hidden_size)\n",
    "        # 二層目\n",
    "        self.params['W2'] = weight_init_std * np.random.randn(hidden_size, output_size)\n",
    "        self.params['b2'] = np.zeros(output_size)\n",
    "\n",
    "    def predict(self, x):\n",
    "        W1, W2 = self.params['W1'], self.params['W2']\n",
    "        b1, b2 = self.params['b1'], self.params['b2']\n",
    "\n",
    "        # 第一層\n",
    "        a1 = np.dot(x, W1) + b1\n",
    "        z1 = sigmoid(a1)\n",
    "        # 第二層\n",
    "        a2 = np.dot(z1, W2) + b2\n",
    "        y = softmax(a2)\n",
    "\n",
    "        return y\n",
    "\n",
    "    # 損失関数。 x : 入力データ、t : 教師データ\n",
    "    def loss(self, x, t):\n",
    "        y = self.predict(x)\n",
    "        return cross_entropy_error(y, t)\n",
    "\n",
    "    # 正解率を出す\n",
    "    def accuracy(self, x, t):\n",
    "        y = self.predict(x)\n",
    "        y = np.argmax(y, axis=1)\n",
    "        t = np.argmax(t, axis=1)\n",
    "\n",
    "        accuracy = np.sum(y == t) / float(x.shape[0])\n",
    "        return accuracy\n",
    "\n",
    "    # x : 入力データ、 t : 教師データ\n",
    "    def numerical_gradient(self, x, t):\n",
    "        loss_W = lambda W : self.loss(x, t)\n",
    "\n",
    "        grads = {}\n",
    "        grads['W1'] = numerical_gradient(loss_W, self.params['W1'])\n",
    "        grads['b1'] = numerical_gradient(loss_W, self.params['b1'])\n",
    "        grads['W2'] = numerical_gradient(loss_W, self.params['W2'])\n",
    "        grads['b2'] = numerical_gradient(loss_W, self.params['b2'])\n",
    "\n",
    "        return grads\n",
    "        \n",
    "    def gradient(self, x, t):\n",
    "        W1, W2 = self.params['W1'], self.params['W2']\n",
    "        b1, b2 = self.params['b1'], self.params['b2']\n",
    "        grads = {}\n",
    "        \n",
    "        batch_num = x.shape[0]\n",
    "        \n",
    "        # forward\n",
    "        a1 = np.dot(x, W1) + b1\n",
    "        z1 = sigmoid(a1)\n",
    "        a2 = np.dot(z1, W2) + b2\n",
    "        y = softmax(a2)\n",
    "        \n",
    "        # backward\n",
    "        dy = (y - t) / batch_num\n",
    "        grads['W2'] = np.dot(z1.T, dy)\n",
    "        grads['b2'] = np.sum(dy, axis=0)\n",
    "        \n",
    "        dz1 = np.dot(dy, W2.T)\n",
    "        da1 = sigmoid_grad(a1) * dz1\n",
    "        grads['W1'] = np.dot(x.T, da1)\n",
    "        grads['b1'] = np.sum(da1, axis=0)\n",
    "\n",
    "        return grads"
   ]
  },
  {
   "cell_type": "code",
   "execution_count": 20,
   "id": "9840ecd5-e239-4d4f-8378-2451eeab15b3",
   "metadata": {},
   "outputs": [
    {
     "name": "stdout",
     "output_type": "stream",
     "text": [
      "W1 : (784, 100)\n",
      "b1 : (100,)\n",
      "W2 : (100, 10)\n",
      "b2 : (10,)\n"
     ]
    }
   ],
   "source": [
    "net = TwoLayerNet(input_size=784, hidden_size=100, output_size=10)\n",
    "# 重み行列、バイアス行列の形確認\n",
    "# (行, 列）の順。数値が入っていない場合は1行,列ということ\n",
    "print('W1 : ' + str(net.params['W1'].shape))\n",
    "print('b1 : ' + str(net.params['b1'].shape))\n",
    "print('W2 : ' + str(net.params['W2'].shape))\n",
    "print('b2 : ' + str(net.params['b2'].shape))"
   ]
  },
  {
   "cell_type": "markdown",
   "id": "32a5161c-5ef9-4f32-8a79-acee61b69892",
   "metadata": {},
   "source": [
    "* ## ミニバッチ学習の実装"
   ]
  },
  {
   "cell_type": "code",
   "execution_count": 78,
   "id": "4f91a23f-6f8c-450e-b023-4631085d1388",
   "metadata": {},
   "outputs": [
    {
     "data": {
      "image/png": "[encoded data removed]",
      "text/plain": [
       "<Figure size 640x480 with 1 Axes>"
      ]
     },
     "metadata": {},
     "output_type": "display_data"
    }
   ],
   "source": [
    "import numpy as np\n",
    "from dataset.mnist import load_mnist\n",
    "\n",
    "# 書籍のコードが一番便利（正規化もしてくれるしOnehot表現にも直してくれる）\n",
    "(x_train, t_train), (x_test, t_test) = load_mnist(normalize=True, one_hot_label=True)\n",
    "\n",
    "# 試しに中身を取り出してみる\n",
    "plt.imshow(x_train[19].reshape(28,28))\n",
    "plt.show()"
   ]
  },
  {
   "cell_type": "markdown",
   "id": "00f1a680-9b62-4c92-adb0-a824342c9254",
   "metadata": {},
   "source": [
    "### ミニバッチのサイズを100として、毎回60000万個の訓練データからランダムに100個抜き出して、勾配を求め、確率勾配降下法（SGD）でパラメータを更新する。<br>ここでは勾配法による繰り返し回数を10000回とする。"
   ]
  },
  {
   "cell_type": "code",
   "execution_count": 70,
   "id": "fd1b3f92-f354-47a1-833e-1751e8523182",
   "metadata": {},
   "outputs": [],
   "source": [
    "\n",
    "train_loss_list = []\n",
    "\n",
    "# ハイパーパラメータ\n",
    "iters_num = 10000\n",
    "train_size = x_train.shape[0]\n",
    "batch_size = 100\n",
    "learning_rate = 0.1\n",
    "\n",
    "\n",
    "network = TwoLayerNet(input_size=784, hidden_size=50, output_size=10)\n",
    "\n",
    "for i in range(iters_num):\n",
    "    # ミニバッチの取得\n",
    "    batch_mask = np.random.choice(train_size, batch_size)\n",
    "    x_batch = x_train[batch_mask]\n",
    "    t_batch = t_train[batch_mask]\n",
    "\n",
    "    # 勾配の計算\n",
    "    grad = network.gradient(x_batch, t_batch)\n",
    "    # grad = network.gradient(x_batch, t_batch) # 高速版\n",
    "\n",
    "    # パラメータの更新\n",
    "    for key in ('W1', 'b1', 'W2', 'b2'):\n",
    "        network.params[key] -= learning_rate * grad[key]\n",
    "\n",
    "\n",
    "    # 学習経過の記録\n",
    "    loss = network.loss(x_batch, t_batch)\n",
    "    train_loss_list.append(loss)"
   ]
  },
  {
   "cell_type": "code",
   "execution_count": 94,
   "id": "00cfb8d9-717e-4b68-9a4e-1aced3faeb7d",
   "metadata": {},
   "outputs": [
    {
     "data": {
      "image/png": "[encoded data removed]",
      "text/plain": [
       "<Figure size 640x480 with 1 Axes>"
      ]
     },
     "metadata": {},
     "output_type": "display_data"
    }
   ],
   "source": [
    "# 損失関数の推移をプロットしてみる\n",
    "plt.xlabel('Iteration Number')\n",
    "plt.ylabel('Loss Function')\n",
    "plt.plot(train_loss_list)\n",
    "plt.show()"
   ]
  },
  {
   "cell_type": "markdown",
   "id": "36198a02-c929-4ba8-a869-606b56245e25",
   "metadata": {},
   "source": [
    "### 確かに勾配を再計算して加えることで損失関数が減少＝学習が進んでいる！"
   ]
  },
  {
   "cell_type": "markdown",
   "id": "6bb77461-5b32-467a-a47d-98446b5bc808",
   "metadata": {},
   "source": [
    "* # テストデータで評価する"
   ]
  },
  {
   "cell_type": "markdown",
   "id": "061d8cfe-d717-455b-a86e-53097c470a99",
   "metadata": {},
   "source": [
    "* ### 1 エポック（epoch）とは？\n",
    "### わかりにくいので具体例を出すと、例えば10000個のデータセットに対して100個のミニバッチを抜き出してSGDを行う場合、100回繰り返せば全ての訓練データを「みた」ことになる。（とするらしい。）この場合、1エポック = 100回"
   ]
  },
  {
   "cell_type": "code",
   "execution_count": 104,
   "id": "aa732c5b-c765-4df4-9b2a-2b48c8631c16",
   "metadata": {},
   "outputs": [
    {
     "name": "stdout",
     "output_type": "stream",
     "text": [
      "train accuracy, test accuracy | 0.09863333333333334, 0.0958\n",
      "train accuracy, test accuracy | 0.7820833333333334, 0.7835\n",
      "train accuracy, test accuracy | 0.8751, 0.8791\n",
      "train accuracy, test accuracy | 0.89665, 0.8984\n",
      "train accuracy, test accuracy | 0.9072166666666667, 0.9088\n",
      "train accuracy, test accuracy | 0.9134666666666666, 0.9152\n",
      "train accuracy, test accuracy | 0.9183666666666667, 0.9197\n",
      "train accuracy, test accuracy | 0.9231166666666667, 0.9236\n",
      "train accuracy, test accuracy | 0.9264333333333333, 0.9292\n",
      "train accuracy, test accuracy | 0.9302, 0.9324\n",
      "train accuracy, test accuracy | 0.9332166666666667, 0.9344\n",
      "train accuracy, test accuracy | 0.9364, 0.937\n",
      "train accuracy, test accuracy | 0.9382666666666667, 0.9387\n",
      "train accuracy, test accuracy | 0.9406833333333333, 0.9408\n",
      "train accuracy, test accuracy | 0.9429333333333333, 0.9422\n",
      "train accuracy, test accuracy | 0.9442666666666667, 0.9426\n",
      "train accuracy, test accuracy | 0.9456666666666667, 0.9441\n"
     ]
    }
   ],
   "source": [
    "import numpy as np\n",
    "\n",
    "# ハイパーパラメータ\n",
    "iters_num = 10000\n",
    "batch_size = 100\n",
    "learning_rate = 0.1\n",
    "train_size = x_train.shape[0]\n",
    "\n",
    "train_loss_list = []\n",
    "train_acc_list = []\n",
    "test_acc_list = []\n",
    "\n",
    "# 1エポックあたりの繰り返し回数\n",
    "iters_per_epoch = max(train_size / batch_size, 1)\n",
    "\n",
    "network = TwoLayerNet(input_size=784, hidden_size=50, output_size=10)\n",
    "\n",
    "for i in range(iters_num):\n",
    "    # ミニバッチの取得\n",
    "    batch_mask = np.random.choice(train_size, batch_size)\n",
    "    x_batch = x_train[batch_mask]\n",
    "    t_batch = t_train[batch_mask]\n",
    "\n",
    "    # 勾配の計算\n",
    "    grad = network.gradient(x_batch, t_batch)\n",
    "    # grad = network.gradient(x_batch, t_batch) # 高速版\n",
    "\n",
    "    # パラメータの更新\n",
    "    for key in ('W1', 'b1', 'W2', 'b2'):\n",
    "        network.params[key] -= learning_rate * grad[key]\n",
    "\n",
    "\n",
    "    # 学習経過の記録\n",
    "    loss = network.loss(x_batch, t_batch)\n",
    "    train_loss_list.append(loss)\n",
    "    # ここから先が追加された\n",
    "    if i % iters_per_epoch == 0:\n",
    "        train_acc = network.accuracy(x_train, t_train)\n",
    "        test_acc = network.accuracy(x_test, t_test)\n",
    "        train_acc_list.append(train_acc)\n",
    "        test_acc_list.append(test_acc)\n",
    "        print('train accuracy, test accuracy | ' + str(train_acc) + ', ' + str(test_acc))"
   ]
  },
  {
   "cell_type": "code",
   "execution_count": 114,
   "id": "7c67272b-714f-4dd0-bf36-9470032a4e5a",
   "metadata": {},
   "outputs": [
    {
     "data": {
      "image/png": "[encoded data removed]",
      "text/plain": [
       "<Figure size 640x480 with 1 Axes>"
      ]
     },
     "metadata": {},
     "output_type": "display_data"
    }
   ],
   "source": [
    "plt.plot(train_acc_list, label='train accuracy')\n",
    "plt.plot(test_acc_list, label='test accuracy')\n",
    "plt.xlabel('Epochs')\n",
    "plt.ylabel('Accuracy')\n",
    "plt.legend()\n",
    "plt.show()"
   ]
  },
  {
   "cell_type": "markdown",
   "id": "7c44f7e3-56c6-4e42-9e88-b362f52df98d",
   "metadata": {},
   "source": [
    "### 認識精度の線はほぼ重なっているため、過学習が起きていないことが確認できた。"
   ]
  },
  {
   "cell_type": "markdown",
   "id": "d6557709-a905-4c00-b8c2-841cf22b4c30",
   "metadata": {},
   "source": [
    "#### （ただ世の中の大抵のデータでははテストデータの正解はわからないのでこの検証方法はあまり良くない。。。Cross Validationとか使うと良い。）"
   ]
  },
  {
   "cell_type": "markdown",
   "id": "405df673-e3a2-4bea-9a74-e8cd3ddc21fb",
   "metadata": {},
   "source": [
    "# 書籍中のコードを使わずにMNISTデータセットを読み出してみた"
   ]
  },
  {
   "cell_type": "code",
   "execution_count": 60,
   "id": "a4173b1d-22a2-437a-bea3-05f25c3f68cc",
   "metadata": {},
   "outputs": [
    {
     "name": "stdout",
     "output_type": "stream",
     "text": [
      "画像の縦横サイズ : (28, 28)\n"
     ]
    },
    {
     "data": {
      "image/png": "[encoded data removed]",
      "text/plain": [
       "<Figure size 640x480 with 1 Axes>"
      ]
     },
     "metadata": {},
     "output_type": "display_data"
    },
    {
     "name": "stdout",
     "output_type": "stream",
     "text": [
      "画像の正解ラベル : 5\n"
     ]
    }
   ],
   "source": [
    "import pickle\n",
    "\n",
    "data_file_path = './dataset-by-myself/mnist.pkl'\n",
    "# データを読み込む\n",
    "# 各データはリストになっており、train_img,train_label,test_img,test_labelという名前がついている\n",
    "\n",
    "with open(data_file_path, 'rb') as f:\n",
    "    dataset = pickle.load(f)\n",
    "\n",
    "# 画像データの中身の確認\n",
    "import matplotlib.pyplot as plt\n",
    "\n",
    "example = dataset['train_img'][0].reshape((28, 28))\n",
    "ex_label = dataset['train_label'][0]\n",
    "\n",
    "print('画像の縦横サイズ : ' + str(example.shape))\n",
    "plt.imshow(example)\n",
    "plt.show()\n",
    "\n",
    "print('画像の正解ラベル : ' + str(ex_label))"
   ]
  },
  {
   "cell_type": "code",
   "execution_count": 23,
   "id": "acdb5345-fdad-48c4-961f-5271a13b1189",
   "metadata": {},
   "outputs": [
    {
     "data": {
      "text/plain": [
       "(60000, 10)"
      ]
     },
     "execution_count": 23,
     "metadata": {},
     "output_type": "execute_result"
    }
   ],
   "source": [
    "# そのままでは行列の形が合わないのでラベルをOne-Hot表現に変更\n",
    "def to_one_hot(label):\n",
    "    T = np.zeros((label.size, 10))\n",
    "    for i in range(label.size):\n",
    "        T[i][label[i]] = 1\n",
    "    return T\n",
    "\n",
    "dataset['train_label'] = to_one_hot(dataset['train_label'])\n",
    "dataset['test_label'] = to_one_hot(dataset['test_label'])\n",
    "dataset['train_label'].shape    #-> (60000, 10)"
   ]
  }
 ],
 "metadata": {
  "kernelspec": {
   "display_name": "Python 3 (ipykernel)",
   "language": "python",
   "name": "python3"
  },
  "language_info": {
   "codemirror_mode": {
    "name": "ipython",
    "version": 3
   },
   "file_extension": ".py",
   "mimetype": "text/x-python",
   "name": "python",
   "nbconvert_exporter": "python",
   "pygments_lexer": "ipython3",
   "version": "3.11.7"
  }
 },
 "nbformat": 4,
 "nbformat_minor": 5
}

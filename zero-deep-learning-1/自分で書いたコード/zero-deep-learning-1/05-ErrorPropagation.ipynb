{
 "cells": [
  {
   "cell_type": "markdown",
   "id": "150475ee-60d1-4011-82f1-ac3cad15ab5f",
   "metadata": {},
   "source": [
    "# 第5章 誤差伝播法"
   ]
  },
  {
   "cell_type": "markdown",
   "id": "39cf57af-2b6c-4f1f-8316-0573c1849725",
   "metadata": {},
   "source": [
    "### 重みパラメータの勾配計算方法を効率良く行う方法の一つである「誤差伝播法」について学ぶ。"
   ]
  },
  {
   "cell_type": "markdown",
   "id": "71aa5979-45bc-478d-98cf-6c3fbe5f1639",
   "metadata": {},
   "source": [
    "## 5.4節　単純なレイヤの実装"
   ]
  },
  {
   "cell_type": "markdown",
   "id": "24bd6c3a-f798-433c-b3e4-ab78145de774",
   "metadata": {},
   "source": [
    "#### 計算グラフの乗算ノードを「乗算レイヤ」、加算ノードを「加算レイヤ」として実装する。"
   ]
  },
  {
   "cell_type": "markdown",
   "id": "dca84dbf-b7f6-49e1-b731-bb52769b9a12",
   "metadata": {},
   "source": [
    "* ## 加算レイヤ\n",
    "#### 左からきた入力信号を次のノードに出力するだけ。"
   ]
  },
  {
   "cell_type": "markdown",
   "id": "d20489ac-d149-461e-a65c-83251dd678e2",
   "metadata": {},
   "source": [
    "<img src='./figures/AddLayer.jpg'>"
   ]
  },
  {
   "cell_type": "code",
   "execution_count": 44,
   "id": "3d41b885-9467-4b18-bdd6-c1eb4718769c",
   "metadata": {},
   "outputs": [],
   "source": [
    "# 加算レイヤ\n",
    "class AddLayer:\n",
    "    def __init__(self):\n",
    "        pass\n",
    "\n",
    "    def forward(self, x, y):\n",
    "        out = x + y\n",
    "        return out\n",
    "\n",
    "    def backward(self, dout):\n",
    "        dx = dout * 1\n",
    "        dy = dout * 1\n",
    "        return dx, dy"
   ]
  },
  {
   "cell_type": "markdown",
   "id": "842b9832-6c16-4f94-a49c-5bca5048a38b",
   "metadata": {},
   "source": [
    "* ## 乗算レイヤ"
   ]
  },
  {
   "cell_type": "markdown",
   "id": "d6bc22f7-e161-4772-8aa9-1a86277d7196",
   "metadata": {},
   "source": [
    "#### ひっくり返してかけた値を返す"
   ]
  },
  {
   "cell_type": "markdown",
   "id": "390c00e0-5b70-42b1-8afb-45151822c89f",
   "metadata": {},
   "source": [
    "<img src='./figures/MultipleLayer.jpg'>"
   ]
  },
  {
   "cell_type": "code",
   "execution_count": 46,
   "id": "693d0df7-28d8-4f90-8cb0-9d03fe251b70",
   "metadata": {},
   "outputs": [],
   "source": [
    "# 乗算レイヤ\n",
    "class MulLayer:\n",
    "    # 逆伝播のためにクラス自体に入力値を保持させる必要がある\n",
    "    def __init__(self):\n",
    "        self.x = None\n",
    "        self.y = None\n",
    "\n",
    "    # 順伝播\n",
    "    def forward(self, x, y):\n",
    "        self.x = x\n",
    "        self.y = y\n",
    "        out = x * y\n",
    "        return out\n",
    "\n",
    "    # 逆伝播\n",
    "    def backward(self, dout):\n",
    "        dx = dout * self.y # xとyをひっくり返す\n",
    "        dy = dout * self.x\n",
    "        return dx, dy"
   ]
  },
  {
   "cell_type": "markdown",
   "id": "f64efe9e-8e81-484a-8d77-54fd1660fbb3",
   "metadata": {},
   "source": [
    "* ## 例 : 消費税のかかるりんご2個とみかん3個の買い物"
   ]
  },
  {
   "cell_type": "markdown",
   "id": "78623af8-77a0-46af-9eac-0cad0a266636",
   "metadata": {},
   "source": [
    "<img src='./figures/Apple-and-Orange.jpeg'>"
   ]
  },
  {
   "cell_type": "code",
   "execution_count": 58,
   "id": "0ae70a33-085d-4f5e-be88-7f19916cb7b8",
   "metadata": {},
   "outputs": [
    {
     "name": "stdout",
     "output_type": "stream",
     "text": [
      "715.0000000000001\n"
     ]
    }
   ],
   "source": [
    "# 例）消費税がかかるりんご2個とみかん3個の買い物\n",
    "\n",
    "apple = 100\n",
    "apple_num = 2\n",
    "orange = 150\n",
    "orange_num = 3\n",
    "tax = 1.1 # 消費税は10%\n",
    "\n",
    "# layer\n",
    "mul_apple_layer = MulLayer()\n",
    "mul_orange_layer = MulLayer()\n",
    "add_apple_orange_layer = AddLayer()\n",
    "mul_tax_layer = MulLayer()\n",
    "\n",
    "# forward\n",
    "apple_price = mul_apple_layer.forward(apple, apple_num)\n",
    "orange_price = mul_orange_layer.forward(orange, orange_num)\n",
    "all_price = add_apple_orange_layer.forward(apple_price, orange_price)\n",
    "price = mul_tax_layer.forward(all_price, tax)\n",
    "\n",
    "# backward\n",
    "dprice = 1\n",
    "dall_price, dtax = mul_tax_layer.backward(dprice)\n",
    "dapple_price, dorange_price = add_apple_orange_layer.backward(dall_price)\n",
    "dorange, dorange_num = mul_orange_layer.backward(dorange_price)\n",
    "dapple, dapple_num = mul_apple_layer.backward(dapple_price)\n",
    "\n",
    "print(price)"
   ]
  },
  {
   "cell_type": "code",
   "execution_count": 66,
   "id": "d79ffe89-b2bb-42e8-a0f9-47ba5a15ffe4",
   "metadata": {},
   "outputs": [
    {
     "name": "stdout",
     "output_type": "stream",
     "text": [
      "110.00000000000001 2.2 165.0 3.3000000000000003 650\n"
     ]
    }
   ],
   "source": [
    "print(dapple_num, dapple, dorange_num, dorange,dtax)"
   ]
  },
  {
   "cell_type": "markdown",
   "id": "7743d0a3-b4c9-470d-9934-a1a5c41a4d26",
   "metadata": {},
   "source": [
    "#### 左から順に、「りんごが一個増えた時、合計価格は110円増加する」「りんごの値段が1円上がった時、合計価格は2.2円増加する」「オレンジの個数が1個増えた時、合計価格は165円増加する」「オレンジの価格が1円上がった時、合計価格は3.3円増加する」「税率が1.0上がった時（100%上がった時）、合計価格は650円変化する」ことを示す。<br>全て合計価格（L）に対する微分を表す文になっているのがわかるだろうか・・・・"
   ]
  },
  {
   "cell_type": "markdown",
   "id": "917b3cb9-de7d-46cd-9e58-e7606677983d",
   "metadata": {},
   "source": [
    "# 5.5 活性化関数レイヤの実装"
   ]
  },
  {
   "cell_type": "markdown",
   "id": "17f868c6-264b-4932-a965-04d016c6d48e",
   "metadata": {},
   "source": [
    "* ## ReLUレイヤ"
   ]
  },
  {
   "cell_type": "code",
   "execution_count": 72,
   "id": "e3cb732c-f9fd-4959-a1ed-a49d935272fc",
   "metadata": {},
   "outputs": [],
   "source": [
    "# ReLUレイヤ\n",
    "class Relu:\n",
    "    def __init__(self):\n",
    "        self.mask = None # TrueとFalseからなるnumpy配列\n",
    "\n",
    "    # xは値が何個か入った配列がやってくることを想定\n",
    "    def forward(self, x):\n",
    "        # xの値が0以下の場所をTrue、それ以外をFalseに設定\n",
    "        self.mask = (x <= 0) \n",
    "        out = x.copy()\n",
    "        # self.maskの値がTrueの部分を0に設定\n",
    "        out[self.mask] = 0\n",
    "        return out\n",
    "\n",
    "    def backward(self, dout):\n",
    "        dout[self.mask] = 0\n",
    "        dx = dout\n",
    "        return dx\n",
    "        "
   ]
  },
  {
   "cell_type": "markdown",
   "id": "53eafe04-8ae5-4cce-b943-613ac9bf0ec9",
   "metadata": {},
   "source": [
    "* ## Sigmoidレイヤ"
   ]
  },
  {
   "cell_type": "markdown",
   "id": "f83e4555-db67-40f0-b6c1-fcbbc5bd6596",
   "metadata": {},
   "source": [
    "<img src='./figures/SigmoidLayer.jpeg'>"
   ]
  },
  {
   "cell_type": "markdown",
   "id": "9957a852-9964-4130-ad5c-8f30045cfc8a",
   "metadata": {},
   "source": [
    "最後の出力結果を少し書き換えると出力値$y$のみを含む形で書くことができて、\n",
    "\n",
    "$$ \\frac{\\partial L}{\\partial y} y (1 - y)$$\n",
    "\n",
    "がシグモイドレイヤの逆伝播になる。"
   ]
  },
  {
   "cell_type": "code",
   "execution_count": 85,
   "id": "1bb8b25e-de29-411f-8df4-a64fb045e2b7",
   "metadata": {},
   "outputs": [],
   "source": [
    "import numpy as np\n",
    "# Sigmoidレイヤ\n",
    "class Sigmoid:\n",
    "    def __init__(self):\n",
    "        selt.out = None\n",
    "\n",
    "    def forward(self, x):\n",
    "        out = 1 / (1 + np.exp(-x))\n",
    "        self.out = out\n",
    "        return out\n",
    "\n",
    "    def backward(self, dout):\n",
    "        dx = dout * (1.0 - self.out) * self.out\n",
    "        return dx"
   ]
  },
  {
   "cell_type": "markdown",
   "id": "f10fb34a-a9c9-4e81-9e4a-6fe8e4ea8680",
   "metadata": {},
   "source": [
    "* # 5.6 Affine / Softmaxレイヤの実装"
   ]
  },
  {
   "cell_type": "markdown",
   "id": "140ce160-2590-43ad-a0c2-4786d45eee09",
   "metadata": {},
   "source": [
    "* ## Affineレイヤ"
   ]
  },
  {
   "cell_type": "markdown",
   "id": "b1f59945-0a73-4d97-85ef-eb695d1111ab",
   "metadata": {},
   "source": [
    "#### 行列計算$$ Y = X \\cdot W + B$$を行うレイヤを「Affineレイヤ」と呼ぶ。<br>それぞれの行列の形状に注意すること。"
   ]
  },
  {
   "cell_type": "code",
   "execution_count": 134,
   "id": "27d5fe65-605d-4286-9ead-0e2c642ca081",
   "metadata": {},
   "outputs": [],
   "source": [
    "# Affineレイヤ\n",
    "# 計算の詳細は省略\n",
    "class Affine:\n",
    "    def __init__(self, W, b):\n",
    "        self.W = W\n",
    "        self.b = b\n",
    "        self.x = None\n",
    "        self.dW = None\n",
    "        self.db = None\n",
    "\n",
    "    def forward(self, x):\n",
    "        self.x = x\n",
    "        out = np.dot(x, self.W) + self.b\n",
    "        return out\n",
    "\n",
    "    def backward(self, dout):\n",
    "        dx = np.dot(dout, self.W.T)\n",
    "        self.dW = np.dot(self.x.T, dout)\n",
    "        self.db = np.sum(dout, axis = 0)\n",
    "        return dx"
   ]
  },
  {
   "cell_type": "markdown",
   "id": "4f566c47-b379-45a1-85cb-553fb61c1686",
   "metadata": {},
   "source": [
    "* ## Softmax-with-Lossレイヤ"
   ]
  },
  {
   "cell_type": "markdown",
   "id": "3e8c1073-f0bf-49b9-941a-bedb676e115c",
   "metadata": {},
   "source": [
    "損失関数である交差エントロピー誤差も含めて一つのレイヤとして実装する。"
   ]
  },
  {
   "cell_type": "code",
   "execution_count": 122,
   "id": "150c7506-6532-4c81-8667-879db2f91e39",
   "metadata": {},
   "outputs": [],
   "source": [
    "# ソフトマックスレイヤ + 交差エントロピーレイヤ\n",
    "from common.functions import *\n",
    "class SoftmaxWithLoss:\n",
    "    def __init__(self):\n",
    "        self.loss = None # 損失\n",
    "        self.y = None # softmaxの出力\n",
    "        self.t = None # 教師データ(One-Hot Vector)\n",
    "\n",
    "    def forward(self, x, t):\n",
    "        self.t = t\n",
    "        self.y = softmax(x)\n",
    "        self.loss = cross_entropy_error(self.y, self.t)\n",
    "        return self.loss\n",
    "\n",
    "    def backward(self, dout=1):\n",
    "        batch_size = self.t.shape[0]\n",
    "        dx = (self.y - self.t) / batch_size\n",
    "        return dx"
   ]
  },
  {
   "cell_type": "markdown",
   "id": "eaefe68b-98ae-4a8f-831c-62e9067a7a75",
   "metadata": {},
   "source": [
    "* # 誤差逆伝播法に対応したニューラルネットワークの実装"
   ]
  },
  {
   "cell_type": "code",
   "execution_count": 138,
   "id": "5391e624-0475-4e76-9241-f879dbbc5694",
   "metadata": {},
   "outputs": [],
   "source": [
    "import sys, os\n",
    "sys.path.append(os.pardir)\n",
    "import numpy as np\n",
    "from common.functions import *\n",
    "from common.gradient import numerical_gradient\n",
    "from collections import OrderedDict\n",
    "\n",
    "class TwoLayerNet:\n",
    "\n",
    "    # input_size : 入力層のニューロンの数, hidden_size : 隠れ層のニューロンの数, output_size : 出力層のニューロンの数\n",
    "    def __init__(self, input_size, hidden_size, output_size, weight_init_std=0.01):\n",
    "        # 重みの初期化\n",
    "        self.params = {}\n",
    "        # 一層目\n",
    "        self.params['W1'] = weight_init_std * np.random.randn(input_size, hidden_size)\n",
    "        self.params['b1'] = np.zeros(hidden_size)\n",
    "        # 二層目\n",
    "        self.params['W2'] = weight_init_std * np.random.randn(hidden_size, output_size)\n",
    "        self.params['b2'] = np.zeros(output_size)\n",
    "\n",
    "        # レイヤの生成\n",
    "        self.layers = OrderedDict()\n",
    "        self.layers['Affine1'] = Affine(self.params['W1'], self.params['b1'])\n",
    "        self.layers['Relu1'] = Relu()\n",
    "        self.layers['Affine2'] = Affine(self.params['W2'], self.params['b2'])\n",
    "        self.lastLayer = SoftmaxWithLoss()\n",
    "\n",
    "    def predict(self, x):\n",
    "        for layer in self.layers.values():\n",
    "            x = layer.forward(x)\n",
    "        return x\n",
    "\n",
    "    # 損失関数。 x : 入力データ、t : 教師データ\n",
    "    def loss(self, x, t):\n",
    "        y = self.predict(x)\n",
    "        return self.lastLayer.forward(y, t)\n",
    "\n",
    "    # 正解率を出す\n",
    "    def accuracy(self, x, t):\n",
    "        y = self.predict(x)\n",
    "        y = np.argmax(y, axis=1)\n",
    "        if t.ndim != 1 : t = np.argmax(t, axis=1)\n",
    "\n",
    "        accuracy = np.sum(y == t) / float(x.shape[0])\n",
    "        return accuracy\n",
    "\n",
    "    # x : 入力データ、 t : 教師データ\n",
    "    def numerical_gradient(self, x, t):\n",
    "        loss_W = lambda W : self.loss(x, t)\n",
    "\n",
    "        grads = {}\n",
    "        grads['W1'] = numerical_gradient(loss_W, self.params['W1'])\n",
    "        grads['b1'] = numerical_gradient(loss_W, self.params['b1'])\n",
    "        grads['W2'] = numerical_gradient(loss_W, self.params['W2'])\n",
    "        grads['b2'] = numerical_gradient(loss_W, self.params['b2'])\n",
    "\n",
    "        return grads\n",
    "        \n",
    "    def gradient(self, x, t):\n",
    "        # forward\n",
    "        self.loss(x, t)\n",
    "\n",
    "        # backward\n",
    "        dout = 1\n",
    "        dout = self.lastLayer.backward(dout)\n",
    "\n",
    "        layers = list(self.layers.values())\n",
    "        layers.reverse()\n",
    "\n",
    "        for layer in layers:\n",
    "            dout = layer.backward(dout)\n",
    "\n",
    "        # 設定\n",
    "        grads = {}\n",
    "        grads['W1'] = self.layers['Affine1'].dW\n",
    "        grads['b1'] = self.layers['Affine1'].db\n",
    "        grads['W2'] = self.layers['Affine2'].dW\n",
    "        grads['b2'] = self.layers['Affine2'].db\n",
    "        \n",
    "        return grads"
   ]
  },
  {
   "cell_type": "markdown",
   "id": "61be4087-fcea-4e2d-bfe5-041585d6db8f",
   "metadata": {},
   "source": [
    "* ## 勾配確認の実装"
   ]
  },
  {
   "cell_type": "markdown",
   "id": "de56582e-bb7d-4562-969f-076ccc69d5fc",
   "metadata": {},
   "source": [
    "### 勾配確認とは？\n",
    "#### 実装が簡単な数値微分で計算した勾配の結果と誤差逆伝播法で実装した勾配の結果を比較して正しい実装ができているか確かめること。"
   ]
  },
  {
   "cell_type": "code",
   "execution_count": 140,
   "id": "19330811-2e82-445b-9db5-bdb423a25bc0",
   "metadata": {},
   "outputs": [
    {
     "name": "stdout",
     "output_type": "stream",
     "text": [
      "W1:4.4805901478141003e-10\n",
      "b1:3.043519234728013e-09\n",
      "W2:5.56403056874147e-09\n",
      "b2:1.3878321564048112e-07\n"
     ]
    }
   ],
   "source": [
    "import sys, os\n",
    "sys.path.append(os.pardir)\n",
    "import numpy as np\n",
    "from dataset.mnist import load_mnist\n",
    "\n",
    "# データの読み込み\n",
    "(x_train, t_train), (x_test, t_test) = load_mnist(normalize=True, one_hot_label=True)\n",
    "\n",
    "network = TwoLayerNet(input_size = 784, hidden_size=50, output_size=10)\n",
    "\n",
    "x_batch = x_train[:3]\n",
    "t_batch = t_train[:3]\n",
    "\n",
    "grad_numerical = network.numerical_gradient(x_batch, t_batch)\n",
    "grad_backprop = network.gradient(x_batch, t_batch)\n",
    "\n",
    "# 各重みの絶対誤差の平均を求める\n",
    "for key in grad_numerical.keys():\n",
    "    diff = np.average(np.abs(grad_backprop[key] - grad_numerical[key]))\n",
    "    print(key + ':' + str(diff))"
   ]
  },
  {
   "cell_type": "markdown",
   "id": "ee9a3d68-5fe8-47e0-b9d7-02fba45e498b",
   "metadata": {},
   "source": [
    "* ## 誤差伝播法を用いた学習の実装"
   ]
  },
  {
   "cell_type": "code",
   "execution_count": 147,
   "id": "c261538b-73d8-4285-a826-f09c2c6427bf",
   "metadata": {},
   "outputs": [
    {
     "name": "stdout",
     "output_type": "stream",
     "text": [
      "train accuracy, test accuracy | 0.153, 0.1581\n",
      "train accuracy, test accuracy | 0.907, 0.9091\n",
      "train accuracy, test accuracy | 0.9222833333333333, 0.9247\n",
      "train accuracy, test accuracy | 0.9353833333333333, 0.9351\n",
      "train accuracy, test accuracy | 0.94445, 0.9407\n",
      "train accuracy, test accuracy | 0.9501833333333334, 0.945\n",
      "train accuracy, test accuracy | 0.95545, 0.9504\n",
      "train accuracy, test accuracy | 0.95995, 0.9541\n",
      "train accuracy, test accuracy | 0.962, 0.9554\n",
      "train accuracy, test accuracy | 0.9676, 0.9589\n",
      "train accuracy, test accuracy | 0.9700833333333333, 0.9614\n",
      "train accuracy, test accuracy | 0.9723333333333334, 0.9634\n",
      "train accuracy, test accuracy | 0.9727, 0.9662\n",
      "train accuracy, test accuracy | 0.9740333333333333, 0.9652\n",
      "train accuracy, test accuracy | 0.9769166666666667, 0.9679\n",
      "train accuracy, test accuracy | 0.9787333333333333, 0.9691\n",
      "train accuracy, test accuracy | 0.9791, 0.9685\n"
     ]
    }
   ],
   "source": [
    "import sys, os\n",
    "sys.path.append(os.pardir)\n",
    "import numpy as np\n",
    "from dataset.mnist import load_mnist\n",
    "\n",
    "# データの読み込み\n",
    "(x_train, t_train), (x_test, t_test) = load_mnist(normalize=True, one_hot_label=True)\n",
    "\n",
    "# ハイパーパラメータ\n",
    "iters_num = 10000\n",
    "train_size = x_train.shape[0]\n",
    "batch_size = 100\n",
    "learning_rate = 0.1\n",
    "\n",
    "train_loss_list = []\n",
    "train_acc_list = []\n",
    "test_acc_list = []\n",
    "\n",
    "iters_per_epoch = max(train_size / batch_size, 1)\n",
    "\n",
    "for i in range(iters_num):\n",
    "    batch_mask = np.random.choice(train_size, batch_size)\n",
    "    x_batch = x_train[batch_mask]\n",
    "    t_batch = t_train[batch_mask]\n",
    "\n",
    "    # 誤差伝播法によって勾配を求める\n",
    "    grad = network.gradient(x_batch, t_batch)\n",
    "    \n",
    "    # パラメータの更新\n",
    "    for key in ('W1', 'b1', 'W2', 'b2'):\n",
    "        network.params[key] -= learning_rate * grad[key]\n",
    "\n",
    "\n",
    "    # 学習経過の記録\n",
    "    loss = network.loss(x_batch, t_batch)\n",
    "    train_loss_list.append(loss)\n",
    "    if i % iters_per_epoch == 0:\n",
    "        train_acc = network.accuracy(x_train, t_train)\n",
    "        test_acc = network.accuracy(x_test, t_test)\n",
    "        train_acc_list.append(train_acc)\n",
    "        test_acc_list.append(test_acc)\n",
    "        print('train accuracy, test accuracy | ' + str(train_acc) + ', ' + str(test_acc))"
   ]
  },
  {
   "cell_type": "code",
   "execution_count": 151,
   "id": "5b2ae88a-88a0-420f-ab87-b192512254a7",
   "metadata": {},
   "outputs": [
    {
     "data": {
      "image/png": "[encoded data removed]",
      "text/plain": [
       "<Figure size 640x480 with 1 Axes>"
      ]
     },
     "metadata": {},
     "output_type": "display_data"
    }
   ],
   "source": [
    "import matplotlib.pyplot as plt\n",
    "\n",
    "plt.plot(train_acc_list, label='train accuracy')\n",
    "plt.plot(test_acc_list, label='test accuracy')\n",
    "plt.xlabel('Epochs')\n",
    "plt.ylabel('Accuracy')\n",
    "plt.legend()\n",
    "plt.show()"
   ]
  },
  {
   "cell_type": "code",
   "execution_count": null,
   "id": "04e25059-9579-4759-b51b-972d7d83a845",
   "metadata": {},
   "outputs": [],
   "source": []
  }
 ],
 "metadata": {
  "kernelspec": {
   "display_name": "Python 3 (ipykernel)",
   "language": "python",
   "name": "python3"
  },
  "language_info": {
   "codemirror_mode": {
    "name": "ipython",
    "version": 3
   },
   "file_extension": ".py",
   "mimetype": "text/x-python",
   "name": "python",
   "nbconvert_exporter": "python",
   "pygments_lexer": "ipython3",
   "version": "3.11.7"
  }
 },
 "nbformat": 4,
 "nbformat_minor": 5
}

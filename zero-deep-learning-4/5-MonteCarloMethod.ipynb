{
 "cells": [
  {
   "cell_type": "markdown",
   "metadata": {},
   "source": [
    "> # モンテカルロ法"
   ]
  },
  {
   "cell_type": "markdown",
   "metadata": {},
   "source": [
    "確率分布や期待値などを、実際にサンプルモデルを動かして得た結果を積算して求める方法のこと。"
   ]
  },
  {
   "cell_type": "code",
   "execution_count": 1,
   "metadata": {},
   "outputs": [],
   "source": [
    "# 二つのサイコロの確率分布をサンプルモデルで求める\n",
    "import numpy as np\n",
    "\n",
    "def sample(dices=2):\n",
    "    x = 0\n",
    "    for _ in range(dices):\n",
    "        x += np.random.choice([1,2,3,4,5,6])\n",
    "    return x"
   ]
  },
  {
   "cell_type": "code",
   "execution_count": 5,
   "metadata": {},
   "outputs": [
    {
     "name": "stdout",
     "output_type": "stream",
     "text": [
      "7.0036\n"
     ]
    }
   ],
   "source": [
    "trial = 10000\n",
    "\n",
    "samples = []\n",
    "for _ in range(trial):\n",
    "    s = sample()\n",
    "    samples.append(s)\n",
    "\n",
    "V = sum(samples) / len(samples) # 平均を求める\n",
    "\n",
    "print(V)"
   ]
  },
  {
   "cell_type": "code",
   "execution_count": 9,
   "metadata": {},
   "outputs": [
    {
     "name": "stdout",
     "output_type": "stream",
     "text": [
      "0回目の平均値 : 9.0\n",
      "1000回目の平均値 : 6.97002997002997\n",
      "2000回目の平均値 : 7.043478260869565\n",
      "3000回目の平均値 : 6.988337220926358\n",
      "4000回目の平均値 : 6.979755061234691\n",
      "5000回目の平均値 : 6.965206958608278\n",
      "6000回目の平均値 : 6.986168971838027\n",
      "7000回目の平均値 : 6.996714755034995\n",
      "8000回目の平均値 : 6.992250968628921\n",
      "9000回目の平均値 : 6.992111987556938\n"
     ]
    }
   ],
   "source": [
    "# 毎回平均値を計算する\n",
    "trial = 10000\n",
    "\n",
    "samples = []\n",
    "for i in range(trial):\n",
    "    s = sample()\n",
    "    samples.append(s)\n",
    "    V = sum(samples) / len(samples)\n",
    "    if i % 1000 == 0:\n",
    "        print(f\"{i}回目の平均値 : {V}\")"
   ]
  },
  {
   "cell_type": "markdown",
   "metadata": {},
   "source": [
    "> # （参考） インクリメンタルな方式"
   ]
  },
  {
   "cell_type": "markdown",
   "metadata": {},
   "source": [
    "平均値を求める計算は、実装上は2通りある。\n",
    "\n",
    "> ## 一般的な方式\n",
    "\n",
    "$$\n",
    "    V_n = \\frac{s_1 + s_2 + \\cdots + s_n}{n}\n",
    "$$\n",
    "\n",
    "> ## インクリメンタルな方式\n",
    "\n",
    "$$\n",
    "    V_n = V_{n-1} + \\frac{1}{n} (s_n - V_{n-1})\n",
    "$$"
   ]
  },
  {
   "cell_type": "code",
   "execution_count": 13,
   "metadata": {},
   "outputs": [
    {
     "name": "stdout",
     "output_type": "stream",
     "text": [
      "0回目の平均値 : 7.0\n",
      "100回目の平均値 : 6.475247524752473\n",
      "200回目の平均値 : 6.557213930348259\n",
      "300回目の平均値 : 6.621262458471757\n",
      "400回目の平均値 : 6.778054862842886\n",
      "500回目の平均値 : 6.9101796407185585\n",
      "600回目の平均値 : 7.003327787021624\n",
      "700回目の平均値 : 6.995720399429382\n",
      "800回目の平均値 : 6.992509363295879\n",
      "900回目の平均値 : 6.942286348501663\n"
     ]
    }
   ],
   "source": [
    "# インクリメンタルな方式で実装\n",
    "# 2.8秒の実行時間差ができる。\n",
    "\n",
    "trial = 1000\n",
    "V, n = 0, 0\n",
    "\n",
    "for i in range(trial):\n",
    "    s = sample()\n",
    "    n += 1\n",
    "    V += (s - V) /n\n",
    "    if i % 100 == 0:\n",
    "        print(f\"{i}回目の平均値 : {V}\")"
   ]
  },
  {
   "cell_type": "markdown",
   "metadata": {},
   "source": [
    "> # 5.2 モンテカルロ法による方策評価"
   ]
  },
  {
   "cell_type": "markdown",
   "metadata": {},
   "source": [
    "> ## 5.2.1 価値関数をモンテカルロ法で見つける"
   ]
  },
  {
   "cell_type": "markdown",
   "metadata": {},
   "source": [
    "> ## 価値関数の定義\n",
    "\n",
    "$$\n",
    "    v_\\pi (s) = \\mathbf{E}_\\pi [G |s]\n",
    "$$\n",
    "\n",
    "状態sからスタートして得られる収益を$G$とする。価値関数は、方策$\\pi$に従って行動したときに得られる収益の期待値で表される。\n",
    "\n",
    "> ## モンテカルロ法を用いた価値関数の定義\n",
    "\n",
    "実際に方策$\\pi$に従ってたくさん行動させて、実際の収益（サンプルデータ）を集め、その平均を求める。\n",
    "\n",
    "$$\n",
    "    V_\\pi (s) = \\frac{G^{(1)} + G^{(2)} + \\cdots + G^{(n)}}{n}\n",
    "$$"
   ]
  },
  {
   "cell_type": "code",
   "execution_count": 15,
   "metadata": {},
   "outputs": [],
   "source": [
    "# GridWorld クラスの実装\n",
    "# 先ほどの絵の左上が(0, 0)\n",
    "import numpy as np\n",
    "\n",
    "class GridWorld:\n",
    "    def __init__(self):\n",
    "        # 行動できる方向を指定（4つ）\n",
    "        self.action_space = [0, 1, 2, 3]\n",
    "        # 各状態の数字に行動の「意味」をつける\n",
    "        self.action_meaning = {\n",
    "            0: 'UP',\n",
    "            1: 'DOWN',\n",
    "            2: 'LEFT',\n",
    "            3: 'RIGHT',\n",
    "        }\n",
    "        \n",
    "        # マップを与える\n",
    "        self.reward_map = np.array(\n",
    "            [[0, 0, 0, 1.0],\n",
    "             [0, None, 0, -1.0],\n",
    "             [0, 0, 0, 0]]\n",
    "        )\n",
    "        \n",
    "        # 特殊な状態となる場所を定義\n",
    "        self.goal_state = (0, 3)\n",
    "        self.wall_state = (1, 1)\n",
    "        self.start_state = (2, 0)\n",
    "        \n",
    "        # エージェントの開始位置\n",
    "        self.agent_state = self.start_state\n",
    "        \n",
    "        \n",
    "    @property\n",
    "    def height(self):\n",
    "        return len(self.reward_map)\n",
    "        \n",
    "    @property\n",
    "    def width(self):\n",
    "        return len(self.reward_map[0])\n",
    "        \n",
    "    @property\n",
    "    def shape(self):\n",
    "        return self.reward_map.shape\n",
    "        \n",
    "    def actions(self):\n",
    "        return self.action_space    # [0, 1, 2, 3]\n",
    "        \n",
    "    def states(self):\n",
    "        for h in range(self.height):\n",
    "            for w in range(self.width):\n",
    "                yield (h, w)\n",
    "                \n",
    "            \n",
    "    def next_state(self, state, action):\n",
    "        action_move_map = [(-1, 0), (1, 0), (0, -1), (0, 1)]\n",
    "        move = action_move_map[action]\n",
    "        next_state = (state[0] + move[0], state[1] + move[1])\n",
    "        ny, nx = next_state\n",
    "\n",
    "        if nx < 0 or nx >= self.width or ny < 0 or ny >= self.height:\n",
    "            next_state = state\n",
    "        elif next_state == self.wall_state:\n",
    "            next_state = state\n",
    "\n",
    "        return next_state\n",
    "\n",
    "    def reward(self, state, action, next_state):\n",
    "        return self.reward_map[next_state]\n",
    "\n",
    "    def reset(self):\n",
    "        self.agent_state = self.start_state\n",
    "        return self.agent_state\n",
    "\n",
    "    def step(self, action):\n",
    "        state = self.agent_state\n",
    "        next_state = self.next_state(state, action)\n",
    "        reward = self.reward(state, action, next_state)\n",
    "        done = (next_state == self.goal_state)\n",
    "\n",
    "        self.agent_state = next_state\n",
    "        return next_state, reward, done\n",
    "\n",
    "    def render_v(self, v=None, policy=None, print_value=True):\n",
    "        renderer = Renderer(self.reward_map, self.goal_state,\n",
    "                                          self.wall_state)\n",
    "        renderer.render_v(v, policy, print_value)\n",
    "\n",
    "    def render_q(self, q=None, print_value=True):\n",
    "        renderer = Renderer(self.reward_map, self.goal_state,\n",
    "                                          self.wall_state)\n",
    "        renderer.render_q(q, print_value)\n",
    "\n",
    "import numpy as np\n",
    "import matplotlib\n",
    "import matplotlib.pyplot as plt\n",
    "\n",
    "\n",
    "class Renderer:\n",
    "    def __init__(self, reward_map, goal_state, wall_state):\n",
    "        self.reward_map = reward_map\n",
    "        self.goal_state = goal_state\n",
    "        self.wall_state = wall_state\n",
    "        self.ys = len(self.reward_map)\n",
    "        self.xs = len(self.reward_map[0])\n",
    "\n",
    "        self.ax = None\n",
    "        self.fig = None\n",
    "        self.first_flg = True\n",
    "\n",
    "    def set_figure(self, figsize=None):\n",
    "        fig = plt.figure(figsize=figsize)\n",
    "        self.ax = fig.add_subplot(111)\n",
    "        ax = self.ax\n",
    "        ax.clear()\n",
    "        ax.tick_params(labelbottom=False, labelleft=False, labelright=False, labeltop=False)\n",
    "        ax.set_xticks(range(self.xs))\n",
    "        ax.set_yticks(range(self.ys))\n",
    "        ax.set_xlim(0, self.xs)\n",
    "        ax.set_ylim(0, self.ys)\n",
    "        ax.grid(True)\n",
    "\n",
    "    def render_v(self, v=None, policy=None, print_value=True):\n",
    "        self.set_figure()\n",
    "\n",
    "        ys, xs = self.ys, self.xs\n",
    "        ax = self.ax\n",
    "\n",
    "        if v is not None:\n",
    "            color_list = ['red', 'white', 'green']\n",
    "            cmap = matplotlib.colors.LinearSegmentedColormap.from_list(\n",
    "                'colormap_name', color_list)\n",
    "\n",
    "            # dict -> ndarray\n",
    "            v_dict = v\n",
    "            v = np.zeros(self.reward_map.shape)\n",
    "            for state, value in v_dict.items():\n",
    "                v[state] = value\n",
    "\n",
    "            vmax, vmin = v.max(), v.min()\n",
    "            vmax = max(vmax, abs(vmin))\n",
    "            vmin = -1 * vmax\n",
    "            vmax = 1 if vmax < 1 else vmax\n",
    "            vmin = -1 if vmin > -1 else vmin\n",
    "\n",
    "            ax.pcolormesh(np.flipud(v), cmap=cmap, vmin=vmin, vmax=vmax)\n",
    "\n",
    "        for y in range(ys):\n",
    "            for x in range(xs):\n",
    "                state = (y, x)\n",
    "                r = self.reward_map[y, x]\n",
    "                if r != 0 and r is not None:\n",
    "                    txt = 'R ' + str(r)\n",
    "                    if state == self.goal_state:\n",
    "                        txt = txt + ' (GOAL)'\n",
    "                    ax.text(x+.1, ys-y-0.9, txt)\n",
    "\n",
    "                if (v is not None) and state != self.wall_state:\n",
    "                    if print_value:\n",
    "                        offsets = [(0.4, -0.15), (-0.15, -0.3)]\n",
    "                        key = 0\n",
    "                        if v.shape[0] > 7: key = 1\n",
    "                        offset = offsets[key]\n",
    "                        ax.text(x+offset[0], ys-y+offset[1], \"{:12.2f}\".format(v[y, x]))\n",
    "\n",
    "                if policy is not None and state != self.wall_state:\n",
    "                    actions = policy[state]\n",
    "                    max_actions = [kv[0] for kv in actions.items() if kv[1] == max(actions.values())]\n",
    "\n",
    "                    arrows = [\"↑\", \"↓\", \"←\", \"→\"]\n",
    "                    offsets = [(0, 0.1), (0, -0.1), (-0.1, 0), (0.1, 0)]\n",
    "                    for action in max_actions:\n",
    "                        arrow = arrows[action]\n",
    "                        offset = offsets[action]\n",
    "                        if state == self.goal_state:\n",
    "                            continue\n",
    "                        ax.text(x+0.45+offset[0], ys-y-0.5+offset[1], arrow)\n",
    "\n",
    "                if state == self.wall_state:\n",
    "                    ax.add_patch(plt.Rectangle((x,ys-y-1), 1, 1, fc=(0.4, 0.4, 0.4, 1.)))\n",
    "        plt.show()\n",
    "\n",
    "    def render_q(self, q, show_greedy_policy=True):\n",
    "        self.set_figure()\n",
    "\n",
    "        ys, xs = self.ys, self.xs\n",
    "        ax = self.ax\n",
    "        action_space = [0, 1, 2, 3]\n",
    "\n",
    "        qmax, qmin = max(q.values()), min(q.values())\n",
    "        qmax = max(qmax, abs(qmin))\n",
    "        qmin = -1 * qmax\n",
    "        qmax = 1 if qmax < 1 else qmax\n",
    "        qmin = -1 if qmin > -1 else qmin\n",
    "\n",
    "\n",
    "        color_list = ['red', 'white', 'green']\n",
    "        cmap = matplotlib.colors.LinearSegmentedColormap.from_list(\n",
    "            'colormap_name', color_list)\n",
    "\n",
    "        for y in range(ys):\n",
    "            for x in range(xs):\n",
    "                for action in action_space:\n",
    "                    state = (y, x)\n",
    "                    r = self.reward_map[y, x]\n",
    "                    if r != 0 and r is not None:\n",
    "                        txt = 'R ' + str(r)\n",
    "                        if state == self.goal_state:\n",
    "                            txt = txt + ' (GOAL)'\n",
    "                        ax.text(x+.05, ys-y-0.95, txt)\n",
    "\n",
    "                    if state == self.goal_state:\n",
    "                        continue\n",
    "\n",
    "                    tx, ty = x, ys-y-1\n",
    "\n",
    "                    action_map = {\n",
    "                        0: ((0.5+tx, 0.5+ty), (tx+1, ty+1), (tx, ty+1)),\n",
    "                        1: ((tx, ty), (tx+1, ty), (tx+0.5, ty+0.5)),\n",
    "                        2: ((tx, ty), (tx+0.5, ty+0.5), (tx, ty+1)),\n",
    "                        3: ((0.5+tx, 0.5+ty), (tx+1, ty), (tx+1, ty+1)),\n",
    "                    }\n",
    "                    offset_map = {\n",
    "                        0: (0.1, 0.8),\n",
    "                        1: (0.1, 0.1),\n",
    "                        2: (-0.2, 0.4),\n",
    "                        3: (0.4, 0.4),\n",
    "                    }\n",
    "                    if state == self.wall_state:\n",
    "                        ax.add_patch(plt.Rectangle((tx, ty), 1, 1, fc=(0.4, 0.4, 0.4, 1.)))\n",
    "                    elif state in self.goal_state:\n",
    "                        ax.add_patch(plt.Rectangle((tx, ty), 1, 1, fc=(0., 1., 0., 1.)))\n",
    "                    else:\n",
    "\n",
    "                        tq = q[(state, action)]\n",
    "                        color_scale = 0.5 + (tq / qmax) / 2  # normalize: 0.0-1.0\n",
    "\n",
    "                        poly = plt.Polygon(action_map[action],fc=cmap(color_scale))\n",
    "                        ax.add_patch(poly)\n",
    "\n",
    "                        offset= offset_map[action]\n",
    "                        ax.text(tx+offset[0], ty+offset[1], \"{:12.2f}\".format(tq))\n",
    "        plt.show()\n",
    "\n",
    "        if show_greedy_policy:\n",
    "            policy = {}\n",
    "            for y in range(self.ys):\n",
    "                for x in range(self.xs):\n",
    "                    state = (y, x)\n",
    "                    qs = [q[state, action] for action in range(4)]  # action_size\n",
    "                    max_action = np.argmax(qs)\n",
    "                    probs = {0:0.0, 1:0.0, 2:0.0, 3:0.0}\n",
    "                    probs[max_action] = 1\n",
    "                    policy[state] = probs\n",
    "            self.render_v(None, policy)\n"
   ]
  },
  {
   "cell_type": "markdown",
   "metadata": {},
   "source": [
    "> # 5.3 モンテカルロ法の実装"
   ]
  },
  {
   "cell_type": "code",
   "execution_count": 16,
   "metadata": {},
   "outputs": [
    {
     "name": "stdout",
     "output_type": "stream",
     "text": [
      "next_state : (1, 0)\n",
      "reaward :  0\n",
      "done: False\n"
     ]
    }
   ],
   "source": [
    "env = GridWorld()\n",
    "\n",
    "action = 0\n",
    "next_state, reward, done = env.step(action)\n",
    "\n",
    "print('next_state :' , next_state)\n",
    "print('reaward : ', reward)\n",
    "print('done:', done)"
   ]
  },
  {
   "cell_type": "markdown",
   "metadata": {},
   "source": [
    "> # 5.3.2 エージェントクラスの実装\n",
    "\n",
    "ランダムな方策に従って行動するエージェントをクラスとして実装する"
   ]
  },
  {
   "cell_type": "code",
   "execution_count": 19,
   "metadata": {},
   "outputs": [],
   "source": [
    "from collections import defaultdict\n",
    "\n",
    "class RandomAgent:\n",
    "    def __init__(self):\n",
    "        self.gamma = 0.9\n",
    "        self.action_size = 4\n",
    "        \n",
    "        random_actions = {0: 0.25, 1: 0.25, 2: 0.25, 3: 0.25}\n",
    "        self.pi = defaultdict(lambda: random_actions)\n",
    "        self.V = defaultdict(lambda :0)\n",
    "        self.cnts = defaultdict(lambda: 0)\n",
    "        self.memory = []\n",
    "        \n",
    "    def get_action(self, state):\n",
    "        action_probs = self.pi[state]\n",
    "        actions = list(action_probs.keys())\n",
    "        probs = list(action_probs.values())\n",
    "        return np.random.choice(actions, p=probs)\n",
    "    \n",
    "    def add(self, state, action, reward):\n",
    "        data = (state, action, reward)\n",
    "        self.memory.append(data)\n",
    "        \n",
    "    def reset(self):\n",
    "        self.memory.clear()\n",
    "    \n",
    "    def eval(self):\n",
    "        G = 0\n",
    "        for data in reversed(self.memory):  # 逆向きにたどる\n",
    "            state, action, reward = data\n",
    "            G = self.gamma * G + reward\n",
    "            self.cnts[state] += 1\n",
    "            self.V[state] += (G - self.V[state]) / self.cnts[state]"
   ]
  },
  {
   "cell_type": "code",
   "execution_count": 20,
   "metadata": {},
   "outputs": [
    {
     "data": {
      "image/png": "[encoded data removed]",
      "text/plain": [
       "<Figure size 640x480 with 1 Axes>"
      ]
     },
     "metadata": {},
     "output_type": "display_data"
    }
   ],
   "source": [
    "# モンテカルロ法を動かす\n",
    "env = GridWorld()\n",
    "agent = RandomAgent()\n",
    "\n",
    "episodes = 1000\n",
    "for episode in range(episodes):\n",
    "    state = env.reset()\n",
    "    agent.reset()\n",
    "    \n",
    "    while True:\n",
    "        action = agent.get_action(state)\n",
    "        next_state, reward, done = env.step(action)\n",
    "        \n",
    "        agent.add(state, action, reward)\n",
    "        if done:\n",
    "            agent.eval()\n",
    "            break\n",
    "        \n",
    "        state = next_state\n",
    "        \n",
    "env.render_v(agent.V)"
   ]
  },
  {
   "cell_type": "markdown",
   "metadata": {},
   "source": [
    "> # 5.4 モンテカルロ法による方策制御\n",
    "\n",
    "> ## 評価と改善\n",
    "\n",
    "最適な方策$\\mu(s)$を得るには、ある状態において、局所的に価値関数が最大となる行動&a$を選べば良い。式にすると、ある状態$s$で行動$a$をとった場合の行動価値関数（Q関数）を$Q(s,a)$として、\n",
    "\n",
    "$$\n",
    "    \\mu(s) = \\argmax_a Q(s, a)\n",
    "$$\n",
    "\n",
    "または、\n",
    "\n",
    "$$\n",
    "    \\mu(s) = \\argmax_a \\sum_{s'} p(s' |s, a) \\bigg\\{ r(s, a, s') + \\gamma V(s') \\bigg\\}\n",
    "$$\n",
    "\n",
    "> ## 問題点\n",
    "\n",
    "今までは二つ目の式を使用して価値関数のgreedy化を行ってきた。しかし、この式では状態遷移確率$p(s' |s, a)$と報酬関数$r(s, a, s')$が不明な場合（環境のモデルが不明な場合）方策制御することが不可能である。\n",
    "\n",
    "そこで、一つ目の式に注目し、Q関数が最大となる行動$a$と取り出す方法を考える。\n"
   ]
  },
  {
   "cell_type": "markdown",
   "metadata": {},
   "source": [
    "> # Q関数に対しての評価\n",
    "Q関数 = 行動$a$が確率的な場合の状態価値関数の求め方と同じ。\n",
    "\n",
    "$$\n",
    "    Q_n(s,a) = Q_{n-1} (s,a) + \\frac{1}{n} \\bigg\\{ G^{(n)} - Q_{n-1}(s,a) \\bigg\\}\n",
    "$$"
   ]
  },
  {
   "cell_type": "markdown",
   "metadata": {},
   "source": [
    "> # 5.4.2 モンテカルロ法を使用した方策制御の実装"
   ]
  },
  {
   "cell_type": "markdown",
   "metadata": {},
   "source": [
    "ポイントは2点\n",
    "\n",
    "1. 完全なgreedyではなく、$\\epsilon$-greedy法を用いる\n",
    "2. Qの更新は「固定値$\\alpha$方式」で行なう。"
   ]
  },
  {
   "cell_type": "code",
   "execution_count": 29,
   "metadata": {},
   "outputs": [
    {
     "data": {
      "image/png": "[encoded data removed]",
      "text/plain": [
       "<Figure size 640x480 with 1 Axes>"
      ]
     },
     "metadata": {},
     "output_type": "display_data"
    },
    {
     "data": {
      "image/png": "[encoded data removed]",
      "text/plain": [
       "<Figure size 640x480 with 1 Axes>"
      ]
     },
     "metadata": {},
     "output_type": "display_data"
    }
   ],
   "source": [
    "def greedy_probs(Q, state, epsilon=0, action_size=4):\n",
    "    qs = [Q[(state, action)] for action in range(action_size)]\n",
    "    max_action = np.argmax(qs)\n",
    "\n",
    "    base_prob = epsilon / action_size\n",
    "    action_probs = {action: base_prob for action in range(action_size)}  #{0: ε/4, 1: ε/4, 2: ε/4, 3: ε/4}\n",
    "    action_probs[max_action] += (1 - epsilon)\n",
    "    return action_probs\n",
    "\n",
    "\n",
    "class McAgent:\n",
    "    def __init__(self):\n",
    "        self.gamma = 0.9\n",
    "        self.epsilon = 0.1\n",
    "        self.alpha = 0.1\n",
    "        self.action_size = 4\n",
    "\n",
    "        random_actions = {0: 0.25, 1: 0.25, 2: 0.25, 3: 0.25}\n",
    "        self.pi = defaultdict(lambda: random_actions)\n",
    "        self.Q = defaultdict(lambda: 0)\n",
    "        self.memory = []\n",
    "\n",
    "    def get_action(self, state):\n",
    "        action_probs = self.pi[state]\n",
    "        actions = list(action_probs.keys())\n",
    "        probs = list(action_probs.values())\n",
    "        return np.random.choice(actions, p=probs)\n",
    "\n",
    "    def add(self, state, action, reward):\n",
    "        data = (state, action, reward)\n",
    "        self.memory.append(data)\n",
    "\n",
    "    def reset(self):\n",
    "        self.memory.clear()\n",
    "\n",
    "    def update(self):\n",
    "        G = 0\n",
    "        for data in reversed(self.memory):\n",
    "            state, action, reward = data\n",
    "            G = self.gamma * G + reward\n",
    "            key = (state, action)\n",
    "            self.Q[key] += (G - self.Q[key]) * self.alpha\n",
    "            self.pi[state] = greedy_probs(self.Q, state, self.epsilon)\n",
    "\n",
    "\n",
    "env = GridWorld()\n",
    "agent = McAgent()\n",
    "\n",
    "episodes = 10000\n",
    "for episode in range(episodes):\n",
    "    state = env.reset()\n",
    "    agent.reset()\n",
    "\n",
    "    while True:\n",
    "        action = agent.get_action(state)\n",
    "        next_state, reward, done = env.step(action)\n",
    "\n",
    "        agent.add(state, action, reward)\n",
    "        if done:\n",
    "            agent.update()\n",
    "            break\n",
    "\n",
    "        state = next_state\n",
    "\n",
    "env.render_q(agent.Q)"
   ]
  },
  {
   "cell_type": "markdown",
   "metadata": {},
   "source": []
  },
  {
   "cell_type": "markdown",
   "metadata": {},
   "source": [
    "> # 5.5 方策オン型と重点サンプリング\n",
    "\n",
    "方策オン型 : 評価と改善の対象となる方策「ターゲット方策」とエージェントが実際に行動を起こす際に使う方策「挙動方策」が同じ場合\n",
    "方策オフ型 : 「ターゲット方策」と「挙動方策」が異なる場合。\n",
    "\n",
    "**方策オフ型は、他人のスイングを見て自身のスイングを改善する過程に例えられる。**\n",
    "\n",
    "> ## 方策オフ型を実装するためのテクニック（重点サンプリング）\n",
    "\n",
    "ある確率分布$\\pi(x)$の期待値を、別の確率分布$b(x)$からサンプリングしたデータ$x$を用いて計算する。\n",
    "\n",
    "少しテクニックを使って期待値の式を変形すると、\n",
    "\n",
    "$$\n",
    "    \\mathbf{E}_\\pi [x] = \\sum x \\pi(x) = \\sum x \\frac{\\pi(x)}{b(x)}b(x)\n",
    "$$\n",
    "\n",
    "つまり、\n",
    "\n",
    "$$\n",
    "    \\mathbf{E}_\\pi [x] = \\mathbf{E}_b \\bigg[ x\\frac{\\pi(x)}{b(x)}\\bigg]\n",
    "$$\n",
    "\n",
    "以後、$\\rho(x) := \\pi(x) / b(x)$と定義して話を進めることとする。\n",
    "\n",
    "モンテカルロ法で求めるとき、\n",
    "\n",
    "$$ \n",
    "    \\mathbf{E}_\\pi [x] = \\frac{\\rho(x^{(1)})x^{(1)} + \\rho(x^{(2)}) x^{(2)} + \\cdots + \\rho(x^{(n)}) x^{(n)}}{n}\n",
    "$$\n",
    "\n",
    "を使用すれば良い。"
   ]
  },
  {
   "cell_type": "code",
   "execution_count": 32,
   "metadata": {},
   "outputs": [
    {
     "name": "stdout",
     "output_type": "stream",
     "text": [
      "E_pi[x] :  2.7\n",
      "MC: 2.72 (var: 0.4016000000000001)\n"
     ]
    }
   ],
   "source": [
    "# 通常のモンテカルロ法を用いて期待値を求める\n",
    "\n",
    "x = np.array([1,2,3])\n",
    "pi = np.array([0.1, 0.1, 0.8])\n",
    "\n",
    "# 期待値\n",
    "e = np.sum(x * pi)\n",
    "print('E_pi[x] : ', e)\n",
    "\n",
    "# モンテカルロ法\n",
    "n = 100\n",
    "samples = []\n",
    "for _ in range(n):\n",
    "    s = np.random.choice(x, p=pi)\n",
    "    samples.append(s)\n",
    "\n",
    "mean = np.mean(samples)\n",
    "var = np.var(samples)\n",
    "\n",
    "print(f'MC: {mean} (var: {var})')"
   ]
  },
  {
   "cell_type": "code",
   "execution_count": 34,
   "metadata": {},
   "outputs": [
    {
     "name": "stdout",
     "output_type": "stream",
     "text": [
      "IS: 3.0210000000000012 (var: 10.717659000000008)\n"
     ]
    }
   ],
   "source": [
    "# 重点サンプリングを用いて期待値を求めた場合\n",
    "b = np.array([1/3, 1/3, 1/3])\n",
    "n = 100\n",
    "samples = []\n",
    "\n",
    "for _ in range(n):\n",
    "    idx = np.arange(len(b))     # [0, 1, 2]\n",
    "    i = np.random.choice(idx, p=b)\n",
    "    s = x[i]\n",
    "    rho = pi[i] / b[i]\n",
    "    samples.append(rho * s)\n",
    "\n",
    "mean = np.mean(samples)\n",
    "var = np.var(samples)\n",
    "\n",
    "print(f'IS: {mean} (var: {var})')"
   ]
  },
  {
   "cell_type": "markdown",
   "metadata": {},
   "source": [
    "> ## 重点サンプリングのポイント\n",
    "* 二つの確率分布を近づける（Kullback-Liebler情報量を1に近づける分布を選ぶ）ことで分散を少なくし、学習回数を減らすことができる。"
   ]
  },
  {
   "cell_type": "code",
   "execution_count": null,
   "metadata": {},
   "outputs": [],
   "source": []
  }
 ],
 "metadata": {
  "kernelspec": {
   "display_name": ".venv",
   "language": "python",
   "name": "python3"
  },
  "language_info": {
   "codemirror_mode": {
    "name": "ipython",
    "version": 3
   },
   "file_extension": ".py",
   "mimetype": "text/x-python",
   "name": "python",
   "nbconvert_exporter": "python",
   "pygments_lexer": "ipython3",
   "version": "3.12.2"
  }
 },
 "nbformat": 4,
 "nbformat_minor": 2
}
